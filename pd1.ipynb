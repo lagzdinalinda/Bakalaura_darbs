{
 "cells": [
  {
   "cell_type": "markdown",
   "metadata": {},
   "source": [
    "#### Matemātika programmētajiem. Programmēšanas valoda Python."
   ]
  },
  {
   "cell_type": "markdown",
   "metadata": {},
   "source": [
    "## 1. praktiskais darbs - Ievads darbā ar programmēšanas valodu Python"
   ]
  },
  {
   "cell_type": "markdown",
   "metadata": {},
   "source": [
    "1. Izmantojot programmēšanas valodu Python, ja tiek ievadīta vērtība, tā tiks atbalsota - izvadīta uz ekrāna. <br>\n",
    "Pamēģiniet ievadīt  dažādas vērtības - veselu skaitli, decimāldaļu, skaitli zinātniskajā pierakstā. Piemēram: <br>\n",
    "9 <br>\n",
    "0.057<br>\n",
    "1e-8\n"
   ]
  },
  {
   "cell_type": "code",
   "execution_count": null,
   "metadata": {},
   "outputs": [],
   "source": [
    "1e-8"
   ]
  },
  {
   "cell_type": "markdown",
   "metadata": {},
   "source": [
    "2. Katrai vērtībai ir savs **tips**. Šajā darbā tiks izmantoti vairāki datu tipi -  `int (integer - veselie skaitļi), `float` (floating-point - decimāldaļas) un `str` (character string - simbolu virknes). <br>\n",
    "Izmantojot funkciju `type(...)`, var noskaidrot vērtības tipu. <br>\n",
    "Izmēģiniet šo funkciju ar iepriekšējā jautājumā izmantotajām vērtībām."
   ]
  },
  {
   "cell_type": "code",
   "execution_count": null,
   "metadata": {},
   "outputs": [],
   "source": [
    "type(1e-8)"
   ]
  },
  {
   "cell_type": "markdown",
   "metadata": {},
   "source": [
    "3. Python pieņem, ka skaitļi, kā pierakstā nav izmantots komats (piemēram 17), ir veselie skaitļi, bet skaitļi ar komatu (piemēram 17.0001) ir decimāldaļas.  Vērtībai ir iespējams uzspiest vēlamo tipu, izmantojot funkcijas `int`(...) un `float`(...) <br>\n",
    "Pārbaudiet, kādu vērtību atgriež `type(17)`.<br>\n",
    "Tad izmēģiniet `tyepe(float(17))` un salīdziniet rezultātu,"
   ]
  },
  {
   "cell_type": "code",
   "execution_count": null,
   "metadata": {},
   "outputs": [],
   "source": [
    "type(17)"
   ]
  },
  {
   "cell_type": "markdown",
   "metadata": {},
   "source": [
    "Izmēģiniet pārvērst decimāldaļu (float) par veselo skaitli(int).<br>\n",
    "Vai skaitlis tiek noapaļota us augšu vai uz leju?"
   ]
  },
  {
   "cell_type": "markdown",
   "metadata": {},
   "source": [
    "4. Virkne (str) ir simbolu virkne, kas iekļauta dubultajās pēdiņās (piemēram, \"hello\") vai vienpēdiņās (piemēram, 'hello'). Virkni, kas sastāv no skaitņiem, iespējams pārvērst veselos skaitļos vai decimāldaļās izmantojot `int(...)` un `float(...)`.<br>\n",
    "Šī funkcija ir svarīga, jo lietotāja ievadītie dati būs `str`, ko nepieciešams pārvērst kādā no skaitļu dtu tipiem, lai tos varētu izmantot aprēķinos.<br>\n",
    "Izmģiniet virknes pārvēršanu veselos skaitļos un decimāldaļās ar šīm un savām vērtībām: <br>\n",
    "\"17\"<br>\n",
    "type(\"17\")<br>\n",
    "float(\"17\")<br>\n",
    "type(float(\"17\"))\n",
    "\n"
   ]
  },
  {
   "cell_type": "code",
   "execution_count": 2,
   "metadata": {},
   "outputs": [
    {
     "data": {
      "text/plain": [
       "'17'"
      ]
     },
     "execution_count": 2,
     "metadata": {},
     "output_type": "execute_result"
    }
   ],
   "source": [
    "\"17\""
   ]
  },
  {
   "cell_type": "markdown",
   "metadata": {},
   "source": [
    "5. Python atbalsta aritmētisko operatoru izmantošanu saskaitīšanai ($+$), atņemšanai ($-$), reizināšanai ($*$) un dalīšanai ($/$). <br> \n",
    "Izteiksmē $a + b$, $a$ un $b$ tiek saukti par operatora $+$ operandiem(cits veids, kā sauk argumentus).<br>\n",
    "Izmēģiniet veikt dažādas darbības izmantojot `int` tipa vērtības un dažādus operatorus."
   ]
  },
  {
   "cell_type": "code",
   "execution_count": null,
   "metadata": {},
   "outputs": [],
   "source": [
    "10*3"
   ]
  },
  {
   "cell_type": "markdown",
   "metadata": {},
   "source": [
    "Pārbaudiet, kāda tipa vērtības tiek atgrieztas, veicot dažādas operācijas."
   ]
  },
  {
   "cell_type": "code",
   "execution_count": null,
   "metadata": {},
   "outputs": [],
   "source": [
    "type(10*3)"
   ]
  },
  {
   "cell_type": "markdown",
   "metadata": {},
   "source": [
    "Vai ievērojāt, ka dalīšana atgriež cita tipa vērtības, nekā pārējās operācijas?"
   ]
  },
  {
   "cell_type": "markdown",
   "metadata": {},
   "source": [
    "6. Veiciet vēl dažus mēģinājumus, tikai šoreiz izmantojot dažādu tipu operandus, piemēram, `int` + `float` vai `float` - `float`, un apskatiet atgriezto datu tipus ar `type(...)`."
   ]
  },
  {
   "cell_type": "code",
   "execution_count": null,
   "metadata": {},
   "outputs": [],
   "source": [
    "type(10*3.0)"
   ]
  },
  {
   "cell_type": "markdown",
   "metadata": {},
   "source": [
    "7. Python atbalsta arī kāpināšanas ($**$), dalījuma veselās daļas ($//$) un dalījuma atilkuma (`%`) operatorus.<br>\n",
    "Izmēginiet šos operatorus, lai pārliecinātos, ka saprotat, kā tie darbojas."
   ]
  },
  {
   "cell_type": "code",
   "execution_count": null,
   "metadata": {},
   "outputs": [],
   "source": [
    "10%3"
   ]
  },
  {
   "cell_type": "markdown",
   "metadata": {},
   "source": [
    "8. Uzraksties izteiksmi, kas aprēķina $x^{2}+ 3x+ 1$ vērtību. <br>\n",
    "Lai to izdarītu, vispirms nepieciešams deklarēt mainīgo, piemēram: <br> \n",
    "$x = 5$"
   ]
  },
  {
   "cell_type": "code",
   "execution_count": null,
   "metadata": {},
   "outputs": [],
   "source": [
    "x=5\n",
    "## BEGIN SOLUTION\n",
    "x^2 +3*x+1\n",
    "## END SOLUTION"
   ]
  },
  {
   "cell_type": "markdown",
   "metadata": {},
   "source": [
    "9. Šobrīd esat apguvuši gandrīz visu nepieciešamo, lai izmantotu Python kā zinātnisko kalkulatoru. Pietrūkst tikai zināšanas par tādu konstanšu, kā $π$ un $e$, kā arī kvadrātsaknes, triganometrisko  un citu funkciju pielietošanu.<br>\n",
    "<br>\n",
    "Daudzas matemātiskās funkcijas ir pieejamas modulī `math`.<br>\n",
    "<br>\n",
    "Lai varētu izmantot funkcijas no kāda moduļa, programmas sākumā nepieciešams norādīt, ka vēlaties to ielādet."
   ]
  },
  {
   "cell_type": "code",
   "execution_count": null,
   "metadata": {},
   "outputs": [],
   "source": [
    "import math"
   ]
  },
  {
   "cell_type": "markdown",
   "metadata": {},
   "source": [
    "Lai izmantou funkciju no kāda moduļa, nepieciešams zināt moduļa nosaukumu, funkcijas nosaukumu un mainīgos, kas nepieciešami šai funkcijai. Piemērams kods  $\\sqrt{9}$ aprēķināšanai ir `math.sqrt(9)`. Izmēģiniet dažas funkcijas no moduļa `math`.<br>\n",
    "**Padoms**: pilnu `math` funkciju sarakstu var atrast [šeit](https://docs.python.org/2/library/math.html#module-math)\n"
   ]
  },
  {
   "cell_type": "code",
   "execution_count": null,
   "metadata": {
    "scrolled": true
   },
   "outputs": [],
   "source": [
    "## BEGIN SOLUTION\n",
    "math.sqrt(9)\n",
    "## END SOLUTION"
   ]
  },
  {
   "cell_type": "markdown",
   "metadata": {},
   "source": [
    "**Padoms**: izmantojot Jupyter Notebook, viena *notebook* ietvaros visas koda šunas \"redz\" viena otru. Tas nozīmē, ka ja šajā *notebook* esat jau ielādējuši moduli, to nav nepieciešams darīt atkārtoti.<br>"
   ]
  },
  {
   "cell_type": "markdown",
   "metadata": {},
   "source": [
    "**Piezīmes**: [Šeit](https://docs.python.org/3/tutorial/modules.html)  ir iespējams uzzināt vairāk par programmēšanas valodas Python moduļiem."
   ]
  },
  {
   "cell_type": "markdown",
   "metadata": {},
   "source": [
    "10. Ja nepieciešams izvadīt kādu vērtību, tam paredzēta funkcija `print(...)`. Tā izvadīt vērtību, kas tai padota kā tās arguments (norādīta iekavās). Pamēģiniet izvadīt dažādas vērtības ar funkcijas `print(...)` palīdzību."
   ]
  },
  {
   "cell_type": "code",
   "execution_count": null,
   "metadata": {},
   "outputs": [],
   "source": [
    "## BEGIN SOLUTION\n",
    "print(8)\n",
    "## END SOLUTION"
   ]
  },
  {
   "cell_type": "markdown",
   "metadata": {},
   "source": [
    "11. Funkcijai `print(...)` kā argumentu var padot ne tikai vērtību, bet arī mainīgo. Definējiet mainīgu `message` ar vērtību \"hello world\" un padodiet to kā argumentu funkcijai `print(...)`"
   ]
  },
  {
   "cell_type": "code",
   "execution_count": null,
   "metadata": {},
   "outputs": [],
   "source": [
    "## BEGIN SOLUTION\n",
    "message = \"hello world\"\n",
    "print(message)\n",
    "## END SOLUTION"
   ]
  },
  {
   "cell_type": "markdown",
   "metadata": {},
   "source": [
    "`print(...)` funkcija var padot arī vairāk kā vienu argumentu. Izmainiet savu kodu pāc parauga un pārbaudiet tā darbību: <br>\n",
    "<br>\n",
    "    message1 = \"hello\"<br>\n",
    "    message2 = \"world\"<br>\n",
    "    print(message1, message2)"
   ]
  },
  {
   "cell_type": "markdown",
   "metadata": {},
   "source": [
    "12. Ar `input(...)` funkciju iespējams saņemt lietotāja ievadītu vērtību. Iekavas var vai nu atstāt tukšas, vai arī tajās kā argumentu  norādīt instrukcijas lietotājam par to, kādu vērtību nepieciešams ievadīt.<br>\n",
    "Pārkopējiet kodu no pieriekšējā uzdevumua izlabojiet, lai mainīgā `message2` vēŗtības vietā būtu funkcijas `input` izsaukums ar argumentu \"Enter your name: \" <br> Pēc funkcijas izpildes, izvades šūna būtu jābūt šādam rezultātam:<br>\n",
    "<br>\n",
    "    Enter your name: Alan<br>\n",
    "    hello Alan<br>\n",
    "    <br>\n",
    "kur \"Alan\" vietā ir lietotāja ievadītais vārds"
   ]
  },
  {
   "cell_type": "code",
   "execution_count": null,
   "metadata": {},
   "outputs": [],
   "source": [
    "## BEGIN SOLUTION\n",
    "message1 = \"hello\"\n",
    "message2 =input(\"Enter your name: \")\n",
    "print(message1, message2)\n",
    "## END SOLUTION"
   ]
  },
  {
   "cell_type": "markdown",
   "metadata": {},
   "source": [
    "14. Python ir iespējams izmantot, lai pārietu no vienas skaitīšanas sistēmas uz citu. Ja dotais skaitlis ir decimālajā sistēmā, tad to var pārvērst\n",
    "    - binārajā ar funkciju `bin(...)`\n",
    "    - heksadecimālajā ar funkciju `hex(...)`\n",
    "    - oktālajā ar funkciju `oct(...)` <br>\n",
    "<br>\n",
    "Izmēģiniet šīs funkcijas"
   ]
  },
  {
   "cell_type": "code",
   "execution_count": null,
   "metadata": {},
   "outputs": [],
   "source": [
    "hex(23)"
   ]
  },
  {
   "cell_type": "markdown",
   "metadata": {},
   "source": [
    "15. Ir iespējams pāriet arī no citām skaitīšanas sistēmām uz decimālo, tam izmantojot mums jau pazīstamo funkciju `int(...)`, padodot tai divus argumentus - skaitli, kas jāpārvērš, un bāzi skaitīšanas sistēmai, uz kuru jāpārvērš. Piemēram, lai pārvērstu binārajā skaitīšanas sistēmā dotu skaitli $01001$ par tā vēŗtibu decimālajā skaitīšanas sistēmā, būtu jāizmanto `int(\"01001\", 2)` <br>\n",
    "Izmēģiniet atrast decimālās vērtības dažādiem skaitļiem binārajā skaitīšanas sistēmā."
   ]
  },
  {
   "cell_type": "code",
   "execution_count": null,
   "metadata": {},
   "outputs": [],
   "source": [
    "int(\"01001\", 2)"
   ]
  },
  {
   "cell_type": "markdown",
   "metadata": {
    "nbgrader": {
     "grade": false,
     "grade_id": "ib1",
     "locked": true,
     "schema_version": 1,
     "solution": false
    }
   },
   "source": [
    "## Izejas biļete"
   ]
  },
  {
   "cell_type": "markdown",
   "metadata": {
    "nbgrader": {
     "grade": false,
     "grade_id": "i1_question",
     "locked": true,
     "schema_version": 1,
     "solution": false
    }
   },
   "source": [
    "i1 Uzrakstiet izteiksmi, kas aprēķina $\\frac{1}{5x^4+5}$ vērtību"
   ]
  },
  {
   "cell_type": "code",
   "execution_count": 3,
   "metadata": {
    "nbgrader": {
     "grade": true,
     "grade_id": "i1_solution",
     "locked": false,
     "points": 1,
     "schema_version": 1,
     "solution": true
    }
   },
   "outputs": [
    {
     "data": {
      "text/plain": [
       "0.08333333333333333"
      ]
     },
     "execution_count": 3,
     "metadata": {},
     "output_type": "execute_result"
    }
   ],
   "source": [
    "## BEGIN SOLUTION\n",
    "x = 1\n",
    "1/(5*x^4+5)\n",
    "## END SOLUTION"
   ]
  },
  {
   "cell_type": "markdown",
   "metadata": {
    "nbgrader": {
     "grade": false,
     "grade_id": "i2_question",
     "locked": true,
     "schema_version": 1,
     "solution": false
    }
   },
   "source": [
    "i2 Izveidojiet mainīgo `radius` ar vērtību 5 un uzrakstiet izteiksmi, kas aprēķina lodes tilpumu $\\frac{4}{3} \\pi r^3$ izmantojot konstanti $\\pi$ no moduļa `math`."
   ]
  },
  {
   "cell_type": "code",
   "execution_count": null,
   "metadata": {
    "nbgrader": {
     "grade": true,
     "grade_id": "i2_solution",
     "locked": false,
     "points": 1,
     "schema_version": 1,
     "solution": true
    }
   },
   "outputs": [],
   "source": [
    "## BEGIN SOLUTION\n",
    "r= 5.0\n",
    "V= 4.0/3.0*math.pi* r**3\n",
    "print('The volume of the sphere is: ',V)\n",
    "## END SOLUTION"
   ]
  },
  {
   "cell_type": "markdown",
   "metadata": {
    "nbgrader": {
     "grade": false,
     "grade_id": "i3_question",
     "locked": true,
     "schema_version": 1,
     "solution": false
    }
   },
   "source": [
    "i3 uzrakstiet kodu, kas:\n",
    "- prasa lietotājam ievadīt kuba malas garumu\n",
    "- aprēķina kuba tilpumu\n",
    "- izvada tekstu \"Volume of cube is \" un aprēķināto vērtību\n"
   ]
  },
  {
   "cell_type": "code",
   "execution_count": null,
   "metadata": {
    "nbgrader": {
     "grade": true,
     "grade_id": "i3_solution",
     "locked": false,
     "points": 3,
     "schema_version": 1,
     "solution": true
    },
    "scrolled": true
   },
   "outputs": [],
   "source": [
    "## BEGIN SOLUTION\n",
    "l=float(input(\"Enter length of edge:\"))\n",
    "V=l**3\n",
    "print(\"Volume of cube is\", V)\n",
    "## END SOLUTION"
   ]
  },
  {
   "cell_type": "markdown",
   "metadata": {
    "nbgrader": {
     "grade": false,
     "grade_id": "i4_question",
     "locked": true,
     "schema_version": 1,
     "solution": false
    }
   },
   "source": [
    "i4 Ir dots skaitlis 7e3 heksadecimālajā skaitīšanas sistēmā. Atrodiet tā vērtību binārajā skatīšanas sistēmā."
   ]
  },
  {
   "cell_type": "code",
   "execution_count": null,
   "metadata": {
    "nbgrader": {
     "grade": true,
     "grade_id": "i4_solution",
     "locked": false,
     "points": 2,
     "schema_version": 1,
     "solution": true
    }
   },
   "outputs": [],
   "source": [
    "## BEGIN SOLUTION\n",
    "tmp=int(\"7e3\", 16)\n",
    "print(bin(tmp))\n",
    "## END SOLUTION"
   ]
  }
 ],
 "metadata": {
  "celltoolbar": "Create Assignment",
  "kernelspec": {
   "display_name": "Python 3",
   "language": "python",
   "name": "python3"
  },
  "language_info": {
   "codemirror_mode": {
    "name": "ipython",
    "version": 3
   },
   "file_extension": ".py",
   "mimetype": "text/x-python",
   "name": "python",
   "nbconvert_exporter": "python",
   "pygments_lexer": "ipython3",
   "version": "3.7.3"
  }
 },
 "nbformat": 4,
 "nbformat_minor": 2
}
