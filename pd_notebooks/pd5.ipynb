{
 "cells": [
  {
   "cell_type": "markdown",
   "metadata": {},
   "source": [
    "### Matemātika programmētajiem. Programmēšanas valoda Python."
   ]
  },
  {
   "cell_type": "markdown",
   "metadata": {},
   "source": [
    "# 5. praktiskais darbs - Kopas un nejauši izvēlēti skaitļi"
   ]
  },
  {
   "cell_type": "markdown",
   "metadata": {},
   "source": [
    "### Nejauši izvēlēti skaitļi"
   ]
  },
  {
   "cell_type": "markdown",
   "metadata": {},
   "source": [
    "1. Dažreiz ir nepieciešams izmantot nejauši izvēlētus skaitļus. Tad noder modulis `random`"
   ]
  },
  {
   "cell_type": "code",
   "execution_count": null,
   "metadata": {},
   "outputs": [],
   "source": [
    "import random"
   ]
  },
  {
   "cell_type": "markdown",
   "metadata": {},
   "source": [
    "**Atgādinājums**: tā kā viena notebook ietvaros koda šunas \"redz\" viena otru, tad šajā darbā šo moduli nebūs nepieciešams atkārtoti importēt."
   ]
  },
  {
   "cell_type": "markdown",
   "metadata": {},
   "source": [
    "2. Ar funkciju `random.randint(a,b)` var iegūt nejauši izvēlētu skaitli intervālā no a līdz b (ieskaitot). Piemērā tiek iegūts nejauši izvēlēts skaitlis intervāla no 1 līdz 10. <br>\n",
    "Izmainiet kodu - izveidojiet funkciju `rnd_five`, kam tiek padoti divi parametri un kas izvada 5 nejaušus skaitļus dotajā diapazonā."
   ]
  },
  {
   "cell_type": "code",
   "execution_count": null,
   "metadata": {},
   "outputs": [],
   "source": [
    "random.randint(1, 10)\n",
    "\n",
    "## BEGIN SOLUTION\n",
    "def rnd_five(b, e) :\n",
    "    for i in range(5) :\n",
    "        print(random.randint(a, b))\n",
    "## END SOLUTION"
   ]
  },
  {
   "cell_type": "markdown",
   "metadata": {},
   "source": [
    "3. `random.random()` funkcija atgriež nejaušu reālu skaitli intervālā no 0 (ieskaitot) līdz 1 (neieskaitot)"
   ]
  },
  {
   "cell_type": "code",
   "execution_count": null,
   "metadata": {},
   "outputs": [],
   "source": [
    "random.random()"
   ]
  },
  {
   "cell_type": "markdown",
   "metadata": {},
   "source": [
    "4. Uzrakstiet skriptu, kas iegūtu nejaušu reālu skaitli intervālā [1, 10)"
   ]
  },
  {
   "cell_type": "code",
   "execution_count": null,
   "metadata": {},
   "outputs": [],
   "source": [
    "## BEGIN SOLUTION\n",
    "print(random.randint(1, 9)+random.random())\n",
    "## END SOLUTION"
   ]
  },
  {
   "cell_type": "markdown",
   "metadata": {},
   "source": [
    "**Padoms**: `random.random()` nepieņem argumentus. Iegūstiet atsevišķi skaitļa veselo komponetni un decimāldaļu."
   ]
  },
  {
   "cell_type": "markdown",
   "metadata": {},
   "source": [
    "5. `random.shuffle(list)` sajauc saraksta elementus nejaušā secībā. Šī funkcija neveido saraksta kopiju - elementi tiks samainīti vietām tai padotajā sarakstā!"
   ]
  },
  {
   "cell_type": "code",
   "execution_count": null,
   "metadata": {},
   "outputs": [],
   "source": [
    "x = [0, 1, 2, 3, 4, 5, 6]\n",
    "random.shuffle(x)\n",
    "print(x)"
   ]
  },
  {
   "cell_type": "markdown",
   "metadata": {},
   "source": [
    "6. `random.sample(l, n)` atgriež $n$ nejaušus elementus no saraksta `l`. <br>\n",
    "Atlasiet 3 nejaušus elementus no iepriekš izveidotā saraksta `a`"
   ]
  },
  {
   "cell_type": "code",
   "execution_count": null,
   "metadata": {},
   "outputs": [],
   "source": [
    "print(random.sample(x,3))"
   ]
  },
  {
   "cell_type": "markdown",
   "metadata": {},
   "source": [
    "### Kopas"
   ]
  },
  {
   "cell_type": "markdown",
   "metadata": {},
   "source": [
    "7. Sarakstus var izmantot kā kopu reprezentāciju. Izveidosim kopas: <br>\n",
    "A = {1, 2, 3, 5, 6, 7, 8} <br>\n",
    "B = {3, 5, 7, 9, 10, 11, 12} <br>\n",
    "C = {3, 5}"
   ]
  },
  {
   "cell_type": "code",
   "execution_count": null,
   "metadata": {},
   "outputs": [],
   "source": [
    "a=[1, 2, 3, 5, 6, 7, 8]\n",
    "b=[3, 5, 7, 9, 10, 11, 12]\n",
    "c=[3 ,5]"
   ]
  },
  {
   "cell_type": "markdown",
   "metadata": {},
   "source": [
    "Lai saraksut izmantotu kā kopu, jālieto `set(...)`"
   ]
  },
  {
   "cell_type": "code",
   "execution_count": null,
   "metadata": {},
   "outputs": [],
   "source": [
    "print(set(a))\n",
    "print(set(b))"
   ]
  },
  {
   "cell_type": "code",
   "execution_count": null,
   "metadata": {},
   "outputs": [],
   "source": [
    "## BEGIN SOLUTION\n",
    "c=a+b\n",
    "print(set(c))\n",
    "## END SOLUTION"
   ]
  },
  {
   "cell_type": "markdown",
   "metadata": {},
   "source": [
    "8. Kopu $A$ un $B$ apvienojumu $A \\cup B$ ir kopa $C$, kas satur visus kopas A un kopas B elementus. <br>\n",
    "Uzrakstiet skriptu, kas iegūst iepriekšēja uzdevumā doto kopu apvienojumu. <br>\n",
    "**Padoms**: Ta kā stradājam ar sarakstiem, padomājiet, varbūt noder kāda no apskatītajām darbībām ar sarakstiem."
   ]
  },
  {
   "cell_type": "markdown",
   "metadata": {},
   "source": [
    "Vēl kopu $A$ un $B$ apvienojumu $A \\cup B$ , var iegūt izmantojot  atslēgas vārds `union`"
   ]
  },
  {
   "cell_type": "code",
   "execution_count": null,
   "metadata": {},
   "outputs": [],
   "source": [
    "set(a).union(set(b))"
   ]
  },
  {
   "cell_type": "markdown",
   "metadata": {},
   "source": [
    "9. Kopu  $A$ un $B$ šķēlums $A \\cap B$ ir visi elementi, kas atrodas gan kopā A, gan kopā B <br>\n",
    "Uzrakstiet skriptu, kas atgriež kopu `a` un `b` šķēlumu."
   ]
  },
  {
   "cell_type": "code",
   "execution_count": null,
   "metadata": {},
   "outputs": [],
   "source": [
    "## BEGIN SOLUTION\n",
    "d=[]\n",
    "for i in range(len(a)) :\n",
    "    if a[i] in b :\n",
    "        d.append(a[i])\n",
    "\n",
    "print(set(d))\n",
    "## END SOLUTION"
   ]
  },
  {
   "cell_type": "markdown",
   "metadata": {},
   "source": [
    "Lai iegūtu kopu šķēlumu, var izmantot arī atslēgas vārdu `intersection`"
   ]
  },
  {
   "cell_type": "code",
   "execution_count": null,
   "metadata": {},
   "outputs": [],
   "source": [
    "set(a).intersection(set(b))"
   ]
  },
  {
   "cell_type": "markdown",
   "metadata": {},
   "source": [
    "10. Kopu $A$ un $B$ starpību $A \\setminus B$ ir kopa, kas sastāv no visiem elementiem, kas ir kopā A, bet nav kopā B <br>\n",
    "Uzrakstiet funkciju `set_difference`, kas atgriež tai padoto kopu starpību."
   ]
  },
  {
   "cell_type": "code",
   "execution_count": null,
   "metadata": {},
   "outputs": [],
   "source": [
    "## BEGIN SOLUTION\n",
    "def set_difference(s1, s2) :\n",
    "    res=[]\n",
    "    for i in range(len(s1)) :\n",
    "        if s1[i] not in s2 :\n",
    "            res.append(s1[i])\n",
    "    return res\n",
    "print(set(set_difference(a, b)))\n",
    "## END SOLUTION"
   ]
  },
  {
   "cell_type": "markdown",
   "metadata": {},
   "source": [
    "Kopu var iegūt arī jāizmantojot atslēgas vārdu `difference`"
   ]
  },
  {
   "cell_type": "code",
   "execution_count": null,
   "metadata": {
    "scrolled": true
   },
   "outputs": [],
   "source": [
    "set(a).difference(set(b))"
   ]
  },
  {
   "cell_type": "markdown",
   "metadata": {},
   "source": [
    "11. Kopa $C$ ir kopas $A$ apakškopa $C \\subset A$ , ja visi kopas C elementi pieder arī kopai A <br>\n",
    "Uzrakstiet funkciju `subset_check`, veic pārbaudi, vai viena dotā kopa ir otras dotās kopas apakškopa."
   ]
  },
  {
   "cell_type": "code",
   "execution_count": null,
   "metadata": {},
   "outputs": [],
   "source": [
    "c=[1, 2, 6]\n",
    "## BEGIN SOLUTION\n",
    "def subset_check (s1, s2) :\n",
    "    for i in range(len(s1)) :\n",
    "        if s1[i] not in s2 :\n",
    "            return False\n",
    "    return True\n",
    "\n",
    "subset_check(c, a)\n",
    "## END SOLUTION"
   ]
  },
  {
   "cell_type": "markdown",
   "metadata": {},
   "source": [
    "Lai pārbaudītu, vai kopa $C$ ir kopas $A$ apakškopa $C \\subset A$ , var lietot arī atslēgas vārdu `issubset`"
   ]
  },
  {
   "cell_type": "code",
   "execution_count": null,
   "metadata": {},
   "outputs": [],
   "source": [
    "set(c).issubset(set(a))"
   ]
  },
  {
   "cell_type": "markdown",
   "metadata": {},
   "source": [
    "9. Izveidojiet sarakstus, kas atblst šīm kopām<br>\n",
    "D = {0, 4, 5, 6, 7, 9} <br>\n",
    "E = {2, 3, 4, 7, 8, 9} <br>\n",
    "F = {1, 2, 5, 8, 9, 10} <br>\n",
    "G = {5, 8}"
   ]
  },
  {
   "cell_type": "code",
   "execution_count": null,
   "metadata": {},
   "outputs": [],
   "source": [
    "D = [0, 4, 5, 6, 7, 9]\n",
    "E = [2, 3, 4, 7, 8, 9 ]\n",
    "F = [1, 2, 5, 8, 9, 10] \n",
    "G = [5, 8]"
   ]
  },
  {
   "cell_type": "markdown",
   "metadata": {},
   "source": [
    "Atrodiet kodu, kas atrod: <br>\n",
    "$F \\cup D$ <br>\n",
    "$D \\cap E$ <br>\n",
    "$F \\cup D \\cap E$ <br>\n",
    "$E \\cup D \\cup F$ <br>\n",
    "$F \\cap D \\cap E$ <br>\n"
   ]
  },
  {
   "cell_type": "code",
   "execution_count": null,
   "metadata": {},
   "outputs": [],
   "source": [
    "##BEGIN SOLUTION\n",
    "set(F).union(set(D))\n",
    "set(D).intersection(set(E))\n",
    "(set(F).union(set(D))).intersection(set(E))\n",
    "(set(E).union(set(D))).union(set(F))\n",
    "(set(E).intersection(set(D))).intersection(set(F))\n",
    "##END SOLUTION\n",
    "set(D).intersection(set(E))"
   ]
  },
  {
   "cell_type": "markdown",
   "metadata": {},
   "source": [
    "9. Pārbaudiet, vai<br>\n",
    "$G \\subset D$<br>\n",
    "$G \\subset F$<br>\n",
    "$G \\subset (D \\cap E)$\n"
   ]
  },
  {
   "cell_type": "code",
   "execution_count": null,
   "metadata": {},
   "outputs": [],
   "source": [
    "##BEGIN SOLUTION\n",
    "set(G).issubset(set(D))\n",
    "set(G).issubset(set(F))\n",
    "set(G).issubset(set(D).intersection(set(E)))\n",
    "##END SOLUTION\n"
   ]
  },
  {
   "cell_type": "markdown",
   "metadata": {},
   "source": [
    "10. Vai $D \\cap E \\cup F$ un $D \\cap (E \\cup F)$ ir viens un tas pats?"
   ]
  },
  {
   "cell_type": "code",
   "execution_count": null,
   "metadata": {},
   "outputs": [],
   "source": [
    "##BEGIN SOLUTION\n",
    "(set(D).intersection(set(E))).union(set(F)) == set(D).intersection((set(E)).union(set(F)))\n",
    "##BEGIN SOLUTION"
   ]
  },
  {
   "cell_type": "markdown",
   "metadata": {},
   "source": [
    "11. Izmantojot programmēšanas valodu Python, kopu $J$ un $K$ Dekarta reizinājumu $J \\times K$ iespējams iegūt vairākos veidos. Viens no tiem ir izmantojot funkciju `product`  no moduļa `itertools`:"
   ]
  },
  {
   "cell_type": "code",
   "execution_count": null,
   "metadata": {
    "scrolled": false
   },
   "outputs": [],
   "source": [
    "import itertools\n",
    "j=[1, 2, 3]\n",
    "k=['a', 'b']\n",
    "for i in itertools.product(j , k):\n",
    "    print(i)"
   ]
  },
  {
   "cell_type": "markdown",
   "metadata": {},
   "source": [
    "Dekarta reizinājumu var iegūt arī ar šādu konstrukciju:"
   ]
  },
  {
   "cell_type": "code",
   "execution_count": null,
   "metadata": {
    "scrolled": true
   },
   "outputs": [],
   "source": [
    " [(a, b) for a in j for b in k]"
   ]
  },
  {
   "cell_type": "markdown",
   "metadata": {},
   "source": [
    "Vai arī ar rekursiju, piemēram:"
   ]
  },
  {
   "cell_type": "code",
   "execution_count": null,
   "metadata": {
    "scrolled": true
   },
   "outputs": [],
   "source": [
    " \n",
    "for i1 in range(len(j)) :\n",
    "    for i2 in range(len(k)) :\n",
    "        print('(',j[i1],',',  k[i2], ')')\n",
    "\n"
   ]
  },
  {
   "cell_type": "markdown",
   "metadata": {},
   "source": [
    "12. Vai nu izmantojot divas no iepriekš dotajām kopām, vai izveidojot jaunas kopas, atrodiet to Dekarta reizinājumu"
   ]
  },
  {
   "cell_type": "code",
   "execution_count": null,
   "metadata": {},
   "outputs": [],
   "source": [
    "## BEGIN SOLUTION\n",
    "j=[5, 7, 2]\n",
    "k=['K', 'U']\n",
    "for i in itertools.product(j , k):\n",
    "    print(i)\n",
    "## END SOLUTION"
   ]
  },
  {
   "cell_type": "markdown",
   "metadata": {
    "nbgrader": {
     "grade": false,
     "grade_id": "ib5",
     "locked": true,
     "schema_version": 1,
     "solution": false
    }
   },
   "source": [
    "## Izejas biļete"
   ]
  },
  {
   "cell_type": "markdown",
   "metadata": {
    "nbgrader": {
     "grade": false,
     "grade_id": "i1_question",
     "locked": true,
     "schema_version": 1,
     "solution": false
    }
   },
   "source": [
    "i1 Uzrakstiet skriptu, kas\n",
    "- prasa lietotājam ievadīt skaitli intervālā (1, 20)\n",
    "- nejauši izvēlās skaitli intervālā (1, 20)\n",
    "- izvada paziņojumu par to, vai lietotāja skaitlis bija mazāks, lielāks vai vienāds ar nejauši izvēlēto"
   ]
  },
  {
   "cell_type": "code",
   "execution_count": null,
   "metadata": {
    "nbgrader": {
     "grade": true,
     "grade_id": "i1_solution",
     "locked": false,
     "points": 2,
     "schema_version": 1,
     "solution": true
    }
   },
   "outputs": [],
   "source": [
    "##BEGIN SOLUTION\n",
    "num=int(input(\"Please write a number between 1 and 20:  \"))\n",
    "rnd=random.randint(1, 20)\n",
    "if num>rnd :\n",
    "    print(\"I got \", rnd, \"Your number is bigger than mine\")\n",
    "elif num<rnd :\n",
    "    print(\"I got \", rnd, \"My number is bigger than yours\")\n",
    "else :\n",
    "    print(\"We have the same number\")\n",
    "## END SOLUTION"
   ]
  },
  {
   "cell_type": "markdown",
   "metadata": {
    "nbgrader": {
     "grade": false,
     "grade_id": "i2_question",
     "locked": true,
     "schema_version": 1,
     "solution": false
    }
   },
   "source": [
    "i2 Uzrakstiet funkciju `rnd_list`, kas kā parametrus saņem divus skaitļus - intervāla sākumu un intervāla beigas, un atgriež masīvu 10 elementiem. Katrs masīva elements in nejaušs skaitlis dotajā intervālā. "
   ]
  },
  {
   "cell_type": "code",
   "execution_count": null,
   "metadata": {
    "nbgrader": {
     "grade": true,
     "grade_id": "i2_solution",
     "locked": false,
     "points": 0,
     "schema_version": 1,
     "solution": true
    }
   },
   "outputs": [],
   "source": [
    "## BEGIN SOLUTION\n",
    "def rnd_list(b, e) :\n",
    "    m=[]\n",
    "    for i in range(10) :\n",
    "        m.append(random.randint(b, e))\n",
    "    return m  \n",
    "## END SOLUTION"
   ]
  },
  {
   "cell_type": "markdown",
   "metadata": {
    "nbgrader": {
     "grade": false,
     "grade_id": "i3_question",
     "locked": true,
     "schema_version": 1,
     "solution": false
    }
   },
   "source": [
    "i3 Izmantojot iepriekš uzrakstīto funkciju, izveidojiet masīvu `o` ar skaitļiem intervalā (2, 9), tad: <br>\n",
    "- izveidojiet trīs jaunus masīvus `m1`, `m2` un `m3` \n",
    "- izmantojot `random_sample` aizpildiet junos masīvus ar elementiem no masīva `o`, tā, lai `m1` būtu 4 elementi, `m2` būtu 5 elementi un `m3` būtu 6 elementi\n",
    "- ja tas ir iespējams, atrodiet $m1 \\cap m2$ un $m1 \\cup (m2 \\cap m3)$ "
   ]
  },
  {
   "cell_type": "code",
   "execution_count": null,
   "metadata": {
    "nbgrader": {
     "grade": true,
     "grade_id": "i3_solution",
     "locked": false,
     "points": 3,
     "schema_version": 1,
     "solution": true
    }
   },
   "outputs": [],
   "source": [
    "## BEGIN SOLUTION\n",
    "o=rnd_list(2, 9)\n",
    "m1=random.sample(o, 4)\n",
    "m2=random.sample(o, 5)\n",
    "m3=random.sample(o, 6)\n",
    "print(m1)\n",
    "print(m2)\n",
    "print(m3)\n",
    "\n",
    "## END SOLUTION"
   ]
  },
  {
   "cell_type": "markdown",
   "metadata": {
    "nbgrader": {
     "grade": false,
     "grade_id": "i4_question",
     "locked": true,
     "schema_version": 1,
     "solution": false
    }
   },
   "source": [
    "i4 izmantojot kādu no apskatītajām metodēm, iegūstiet $m1 \\times m2$"
   ]
  },
  {
   "cell_type": "code",
   "execution_count": null,
   "metadata": {
    "nbgrader": {
     "grade": true,
     "grade_id": "i4_solution",
     "locked": false,
     "points": 2,
     "schema_version": 1,
     "solution": true
    }
   },
   "outputs": [],
   "source": [
    "## BEGIN SOLUTION\n",
    "[(a, b) for a in m1 for b in m2]\n",
    "## END SOLUTION"
   ]
  }
 ],
 "metadata": {
  "celltoolbar": "Create Assignment",
  "kernelspec": {
   "display_name": "Python 3",
   "language": "python",
   "name": "python3"
  },
  "language_info": {
   "codemirror_mode": {
    "name": "ipython",
    "version": 3
   },
   "file_extension": ".py",
   "mimetype": "text/x-python",
   "name": "python",
   "nbconvert_exporter": "python",
   "pygments_lexer": "ipython3",
   "version": "3.7.3"
  }
 },
 "nbformat": 4,
 "nbformat_minor": 2
}
