{
 "cells": [
  {
   "cell_type": "markdown",
   "metadata": {},
   "source": [
    "### Matemātika programmētajiem. Programmēšanas valoda Python."
   ]
  },
  {
   "cell_type": "markdown",
   "metadata": {},
   "source": [
    "# 4. praktiskais darbs - Atkārtojuma konstrukcijas"
   ]
  },
  {
   "cell_type": "markdown",
   "metadata": {},
   "source": [
    "Viena no lielākajām datora priekšrocībam ir tā spēja nenogusrstot atkārtot vienas un tās pašas darbības daudz reizes. Konstrukcijas, kas ļauj izpildīt koda fragmentu nepieciešamo reižu skaitu sauc par **atkārtojuma konstrukcijām** jeb **cikliem**. Katru cikla atkārtojumu sauc par **iterāciju**<br>\n",
    "Programmēšanas valodā Python ir divu veidu cikli - **while**(\"kamēr\") cikls jeb cikls ar nosacījumu un **for**(\"priekš\") cikls jeb cikls ar skaitītāju. <br>"
   ]
  },
  {
   "cell_type": "markdown",
   "metadata": {},
   "source": [
    "### `for` cikls"
   ]
  },
  {
   "cell_type": "markdown",
   "metadata": {},
   "source": [
    "1. `for` ciklu Python valodā var uztvert kā \"priekš katra elementa secībā\" (for each element in sequence). Cikla ķermenis tiks izpildīts vienu reizi katra iterācijā.<br>"
   ]
  },
  {
   "cell_type": "code",
   "execution_count": null,
   "metadata": {},
   "outputs": [],
   "source": [
    "numbers = [0,1,2,3,4]\n",
    "\n",
    "for i in numbers :\n",
    "    print(i)"
   ]
  },
  {
   "cell_type": "markdown",
   "metadata": {},
   "source": [
    "2. Cikli, kam jāizpildās noteiktu reižu skaitu, ir tik bieži sastopami, ka Python ir pieejama īpaši tam paredzēta intervāla funkcija - `range(...)`"
   ]
  },
  {
   "cell_type": "code",
   "execution_count": null,
   "metadata": {
    "scrolled": false
   },
   "outputs": [],
   "source": [
    "for i in range(5) :\n",
    "    print(i)"
   ]
  },
  {
   "cell_type": "markdown",
   "metadata": {},
   "source": [
    "Ja `range` kā parametrus dod divus skaitļus, tad tas darbojas līdzīgi ka iepriekš apskatītais `slice` - nosakot sākumu un beigas intervala, kurā notiks iterācijas. Ta pat ka `slice`, intervāla pirmais elemets tiek iekļauts, bet pēdējais netiek iekļauts.<br>\n",
    "Iespējams pievienot arī trešo mainīgo - tas noteiks \"soļa\" garumu. Dots piemērs, kas intervalā no 3 (ieskaitot) līdz 11 (neieskaitot) izvada katru otro skaitli"
   ]
  },
  {
   "cell_type": "code",
   "execution_count": null,
   "metadata": {
    "scrolled": true
   },
   "outputs": [],
   "source": [
    "for i in range(3, 11, 2) :\n",
    "    print(i)"
   ]
  },
  {
   "cell_type": "markdown",
   "metadata": {},
   "source": [
    "Izmēģiniet iepriekšējos uzdevumos apskatītos piemērus ar savām vērtībam, lai pārliecinātos, ka sparotat kā strādā `for` cikli."
   ]
  },
  {
   "cell_type": "markdown",
   "metadata": {},
   "source": [
    "3. Uzrakstiet kodu, kas izvadīs šādu no zvaigznītēm veidotu trijstūri:\n",
    "<br>\n",
    "$*$ <br>\n",
    "$**$ <br>\n",
    "$***$ <br>\n",
    "$****$ <br>\n",
    "$*****$ <br>"
   ]
  },
  {
   "cell_type": "code",
   "execution_count": null,
   "metadata": {},
   "outputs": [],
   "source": [
    "## BEGIN SOLUTION\n",
    "n=6;\n",
    "for i in range(n):\n",
    "    for j in range(i):\n",
    "        print ('* ', end=\"\")\n",
    "    print('')\n",
    "## END SOLUTION"
   ]
  },
  {
   "cell_type": "markdown",
   "metadata": {},
   "source": [
    "4. Izmantojot ciklus darbībam ar masīviem, nepieciešams asociēt $i$-to elementu masīvā ar indeksu $i$. Vienkārši iterēšana cauri masīvam ar ciklu, nedod indeksus. Lai atrisinātu šo problēmu, varam izmantot funkciju `len` kā parametru funkcijai `range`"
   ]
  },
  {
   "cell_type": "code",
   "execution_count": null,
   "metadata": {},
   "outputs": [],
   "source": [
    "x = [\"a\", \"b\", \"c\", \"d\", \"e\", \"f\"]\n",
    "\n",
    "for i in range(len(x)) :\n",
    "    print(i, x[i])\n",
    "## BEGIN SOLUTION\n",
    "for i in range(len(x)) :\n",
    "    if i%2 !=0 :\n",
    "        print(i, x[i])\n",
    "## END SOLUTION"
   ]
  },
  {
   "cell_type": "markdown",
   "metadata": {},
   "source": [
    "Veiciet izmaiņas dotajā kodā, lai tiktu izvadīti tikai elementi, kas masīvā atrodas nepāra indeksos."
   ]
  },
  {
   "cell_type": "markdown",
   "metadata": {},
   "source": [
    "5. Dažreiz ir nepieciešams iterēt cauri elementiem tikai līdz brīdim, kad izpildās kāds nosacījums un tad iziet no cikla. Šajā gadījumā izmantojam `break`"
   ]
  },
  {
   "cell_type": "code",
   "execution_count": null,
   "metadata": {
    "scrolled": true
   },
   "outputs": [],
   "source": [
    "for i in \"story time always goes on\" :\n",
    "    if i == \"a\" :\n",
    "        break\n",
    "    print(i)\n",
    "\n",
    "print(\"has ended\")"
   ]
  },
  {
   "cell_type": "markdown",
   "metadata": {},
   "source": [
    "Iespējams arī, ka nepieciešams iterēt cauri visiem elementiem, bet gadījumā, ja elements šajā iterācijā atbilst kādam konkrētam nosacījumam, tad to izlaist un turpināt ar nākošo elementu. Šajā gadījumā izmantojam `continue`"
   ]
  },
  {
   "cell_type": "code",
   "execution_count": null,
   "metadata": {
    "scrolled": false
   },
   "outputs": [],
   "source": [
    "for i in range(15) :\n",
    "    if i%3==0 :\n",
    "        continue\n",
    "    print(i)\n",
    "    \n",
    "## BEGIN SOLUTION\n",
    "for i in range(15) :\n",
    "    if i%3==0 or i%2==0:\n",
    "        continue\n",
    "    print(i)\n",
    "## END SOLUTION"
   ]
  },
  {
   "cell_type": "markdown",
   "metadata": {},
   "source": [
    "Šajā piemērā tiek izvadīti skaitļi no 1 līdz 15, izlaižot skaitļus, kas bez atlikuma dalās ar 3. Izmainiet kodu, lai tiktu izlaisti skaitļi, kas dalās bez atlikuma ar 3 vai 2 <br>\n",
    "**Padoms**: izmantojiet `or`"
   ]
  },
  {
   "cell_type": "markdown",
   "metadata": {},
   "source": [
    "6. Iepriekšējā praktisjakā darbā tikām rakstījuši funciju `mean`, kas aprēķina aprēķina aritmētisko vidējo izmantojot funkciju `sum` un funkciju `len`. Izmainiet kodu, lai `sum` un 'len' vietā elementu summas un elementu skaita tiktu izmantots `for` cikls."
   ]
  },
  {
   "cell_type": "code",
   "execution_count": null,
   "metadata": {
    "scrolled": true
   },
   "outputs": [],
   "source": [
    "def mean(z) :\n",
    "    return sum(z)/len(z)\n",
    "\n",
    "## BEGIN SOLUTION\n",
    "def mean(z) :\n",
    "    s=0\n",
    "    count=0\n",
    "    for i in range(len(z)) :\n",
    "        s +=z[i]\n",
    "        count +=1\n",
    "    return s/count       \n",
    "## END SOLUTION\n",
    "\n",
    "d=[1, 5, 9, 2, 1, 5, 10, -4, 5, -3, 6, 3]\n",
    "print(mean(d))"
   ]
  },
  {
   "cell_type": "markdown",
   "metadata": {},
   "source": [
    "7. Definējiet funkciju `normalise`, kam tiek padots skaitļu saraksts un kas atgriež sarakstu, kur katra tā vērtība ir  normalizēta - visu elementu summa ir 1.0 un to relatīvais sadalījums ir tāds pats, kā elementiem ievaddatu sarakstā.<br>\n",
    "Piemēram, padodot sarakstu [4, 8, 4] tiktu atgriezts saraksts [0.25, 0.5, 0.25]"
   ]
  },
  {
   "cell_type": "code",
   "execution_count": null,
   "metadata": {
    "scrolled": true
   },
   "outputs": [],
   "source": [
    "def normalise(z) :\n",
    "    \n",
    "    ## BEGIN SOLUTION\n",
    "    norm_list=z.copy()\n",
    "    for i in range(len(z)) :\n",
    "        norm_list[i]=z[i]/sum(z)\n",
    "    return norm_list    \n",
    "    ## END SOLUTION"
   ]
  },
  {
   "cell_type": "markdown",
   "metadata": {},
   "source": [
    "8. Programmēšanas valodā Python ir iespējams veidot testa piemērus izmantojot atslēgasvardu `assert`. Testa piemēri paredzēti, lai pārbaudītu, vai iepriekš uzrakstītais kods darbojas pareizi. Lai uzrakstītu testa piemēru, nepieciešams zināt kādi būtu pareizie izvaddati pie konkrētiem ievaddatiem.<br> "
   ]
  },
  {
   "cell_type": "code",
   "execution_count": null,
   "metadata": {},
   "outputs": [],
   "source": [
    "assert normalise([12, 3, 6, 3])==([0.5, 0.125, 0.25, 0.125])"
   ]
  },
  {
   "cell_type": "markdown",
   "metadata": {},
   "source": [
    "Ja šūna ar testa piemēriem atgriež kļūdas paziņojumu, tas nozīmē, ka kods, kas tiek testēts, nestrādā pareizi. <br>\n",
    "Pat ja netiek atgriezs kļūdas paziņojums, tas negarantē, ka kods ir pareizs - var gadīties, ka kods strādā pareizi tikai pie konkrētajām vērtībām, tāpēc ieteicams vienmēr rakstī vairākus testa piemērus. <br>\n",
    "Uzrakstiet vēl vismaz divus testa piemērus funkcijai `normalize`"
   ]
  },
  {
   "cell_type": "markdown",
   "metadata": {},
   "source": [
    "### `while` cikls"
   ]
  },
  {
   "cell_type": "markdown",
   "metadata": {},
   "source": [
    "9. `while` cikla ķermenī norādītās darbības veiks tik ilgi, kamēr izpildīsies  noteikts nosacījums."
   ]
  },
  {
   "cell_type": "code",
   "execution_count": null,
   "metadata": {},
   "outputs": [],
   "source": [
    "count = 0\n",
    "\n",
    "while count < 5:\n",
    "    print(\"count =\", count)\n",
    "    count += 1\n",
    "    \n",
    "## BEGIN SOLUTION\n",
    "count=5    \n",
    "while count >= 5 and count <=10:\n",
    "    print(count)\n",
    "    count += 1\n",
    "## END SOLUTION"
   ]
  },
  {
   "cell_type": "markdown",
   "metadata": {},
   "source": [
    "Izmainiet kodu, lai `while` cikls izvadītu skaitļus no 5 līdz 10"
   ]
  },
  {
   "cell_type": "markdown",
   "metadata": {},
   "source": [
    "10. Gadījumos, kad `while` cikla nosacījums ir ļoti garš, koda pārskatāības nolūkos mēdz veidot bezgalīgu ciklu un izmantot `break` iziešanai no tā.  Izlabojiet doto kodu, lai tā būtu bezgalīga cilpa, no kuras darbība tiek pārtraukta gadījumā, ja lietotājs ievada `y`"
   ]
  },
  {
   "cell_type": "code",
   "execution_count": null,
   "metadata": {},
   "outputs": [],
   "source": [
    "attempts = 0\n",
    "\n",
    "while True :\n",
    "    response = input(\"Do you want to quit? (y/n): \")\n",
    "    attempts += 1\n",
    "    if response == \"y\" :\n",
    "        break\n",
    "\n",
    "print(\"Exiting after\", attempts, \"attempts\")"
   ]
  },
  {
   "cell_type": "markdown",
   "metadata": {
    "nbgrader": {
     "grade": false,
     "grade_id": "ib4",
     "locked": true,
     "schema_version": 1,
     "solution": false
    }
   },
   "source": [
    "## Izejas biļete"
   ]
  },
  {
   "cell_type": "markdown",
   "metadata": {
    "nbgrader": {
     "grade": false,
     "grade_id": "i1_question",
     "locked": true,
     "schema_version": 1,
     "solution": false
    }
   },
   "source": [
    "i1 uzveidojiet funkciju `composite(...)`, kas  \n",
    "- atrod visus dotā skaitļa dalītajus\n",
    "- ja skaitlis dalās tikai pats ar sevi un ar 1, atgriež, ka tas ir pirmskaitlis - `prime`\n",
    "- ja tas nav pirmskaitlis, atgriež visus tā dalītājus"
   ]
  },
  {
   "cell_type": "code",
   "execution_count": null,
   "metadata": {
    "nbgrader": {
     "grade": false,
     "grade_id": "i1_solution",
     "locked": false,
     "schema_version": 1,
     "solution": true
    }
   },
   "outputs": [],
   "source": [
    "def composite(a) :\n",
    "\n",
    "    ## BEGIN SOLUTION\n",
    "    m = []  \n",
    "    for i in range(1, a) :\n",
    "        if a%i == 0 :\n",
    "            m.append(i)\n",
    "    \n",
    "    if len(m)<=2 :\n",
    "        return \"prime\"\n",
    "    else :\n",
    "        return m\n",
    "    ## END SOLUTION   "
   ]
  },
  {
   "cell_type": "code",
   "execution_count": null,
   "metadata": {
    "nbgrader": {
     "grade": true,
     "grade_id": "i1_test1",
     "locked": true,
     "points": 2,
     "schema_version": 1,
     "solution": false
    }
   },
   "outputs": [],
   "source": [
    "assert composite(12) == [1, 2, 3, 4, 6]"
   ]
  },
  {
   "cell_type": "code",
   "execution_count": null,
   "metadata": {
    "nbgrader": {
     "grade": true,
     "grade_id": "i2_test2",
     "locked": true,
     "points": 2,
     "schema_version": 1,
     "solution": false
    }
   },
   "outputs": [],
   "source": [
    "assert composite(5) == \"prime\""
   ]
  },
  {
   "cell_type": "markdown",
   "metadata": {
    "nbgrader": {
     "grade": false,
     "grade_id": "i2_question",
     "locked": true,
     "schema_version": 1,
     "solution": false
    }
   },
   "source": [
    "i2 Uzrakstiet skriptu, kas lūdz lietotājam ievadīt skaitli. Ja ievadītais skaitlis ir lielāks par 10, izvada paziņojumu, ka ievadīts pareizs skaitlis. Ja ievadītais skaitlis ir mazāks par 10, tad lūdz ievadīt skaitli atkārtoti, līdz tiek ievadīts skaitlis, kas ir lielāks par 10."
   ]
  },
  {
   "cell_type": "code",
   "execution_count": null,
   "metadata": {
    "nbgrader": {
     "grade": true,
     "grade_id": "i2_solution",
     "locked": false,
     "points": 2,
     "schema_version": 1,
     "solution": true
    }
   },
   "outputs": [],
   "source": [
    "## BEGIN SOLUTION\n",
    "count=5    \n",
    "while True :\n",
    "    response = int(input(\"Please write a number that is larger than 10: \"))\n",
    "    if response > 10 :\n",
    "        print(\"input is correct\")\n",
    "        break\n",
    "    else: \n",
    "        print(\"input is not correct, please try again\")\n",
    "## END SOLUTION"
   ]
  },
  {
   "cell_type": "markdown",
   "metadata": {
    "nbgrader": {
     "grade": false,
     "grade_id": "i3_question",
     "locked": true,
     "schema_version": 1,
     "solution": false
    }
   },
   "source": [
    "i3 Grāmatu sērijā ir 6 grāmatas, katra no tām maksā 8 € <br>\n",
    "Ja pērk 2 grāmatas no sērijas, tiek piešķirta 5% atlaide un ar katru nākošo grāmatu atlaide pieaug par 5%. Piemēram, pērkot  grāmatas, tiks piemērota 15% atlaide. Uzrakstiet funkciju `get_price`, kam tiek padots grāmatu skaits un kas atgriež cik par tām jāmaksā."
   ]
  },
  {
   "cell_type": "code",
   "execution_count": null,
   "metadata": {
    "nbgrader": {
     "grade": false,
     "grade_id": "i3_solution",
     "locked": false,
     "schema_version": 1,
     "solution": true
    }
   },
   "outputs": [],
   "source": [
    "## BEGIN SOLUTION\n",
    "def get_price(num) :\n",
    "    price = 0\n",
    "    discount = 0\n",
    "    if num>6 or num<1 :\n",
    "        print(\"invalid book count\")\n",
    "    elif num == 1 :\n",
    "        return 8\n",
    "    else :\n",
    "        for i in range(num) :\n",
    "            price += 8\n",
    "            if num >=2 :\n",
    "                discount +=5\n",
    "        return price -(price*(discount*0.01))\n",
    "            \n",
    "print(get_price(6))        \n",
    "## END SOLUTION"
   ]
  },
  {
   "cell_type": "markdown",
   "metadata": {
    "nbgrader": {
     "grade": false,
     "grade_id": "i4_question",
     "locked": true,
     "schema_version": 1,
     "solution": false
    }
   },
   "source": [
    "i4 Uzrakstiet testa piemēru funkcijai `get_price`, kas pārbauda, vai pie argumenta 6 tiek atgriezta vērtība 33.6"
   ]
  },
  {
   "cell_type": "code",
   "execution_count": null,
   "metadata": {
    "nbgrader": {
     "grade": true,
     "grade_id": "i4_solution",
     "locked": false,
     "points": 1,
     "schema_version": 1,
     "solution": true
    }
   },
   "outputs": [],
   "source": [
    "## BEGIN SOLUTION\n",
    "assert get_price(6)==33.6\n",
    "## END SOLUTION"
   ]
  },
  {
   "cell_type": "markdown",
   "metadata": {
    "nbgrader": {
     "grade": false,
     "grade_id": "i5_question",
     "locked": true,
     "schema_version": 1,
     "solution": false
    }
   },
   "source": [
    "i5 Uzrakstiet skriptu, kas lūdz lietotājam ievadīt personu skaitu (pozitīvu veselu skaitli) `person_count` un padot šo skaitli funkcijai `make_list_of_ages`.\n",
    "Izveidojiet funkciju `make_list_of_ages`, kas saņem kā parametru lietotāja ievadīto skaitli un izmantojot `for` ciklu aiazpilda saraktu\n",
    "- sarakta vērtību skaitu nosaka argument, ko saņem funkcija\n",
    "- katrā iterācijā lietotājam lūdz ievadīt dzimšanas gadu un pievieno sarakstam, cik šobrīd būtu gadu personai, kas dzimusi tajā gadā (2019-`year_of_birth`)\n",
    "- ja ievadīts gads, kas vēl nav pienācis, kā vecums tiem ierakstīts 0"
   ]
  },
  {
   "cell_type": "code",
   "execution_count": null,
   "metadata": {
    "nbgrader": {
     "grade": true,
     "grade_id": "i5_answer",
     "locked": false,
     "points": 3,
     "schema_version": 1,
     "solution": true
    }
   },
   "outputs": [],
   "source": [
    "## BEGIN SOLUTION\n",
    "def make_list_of_ages(num) :\n",
    "    list_of_ages=[]\n",
    "    for i in range(num) :\n",
    "        year_of_birth = int(input(\"Please input year of birth: \"))\n",
    "        if year_of_birth>2019 :\n",
    "            list_of_ages.append(0)\n",
    "        else: \n",
    "            list_of_ages.append(2019-year_of_birth)\n",
    "    return list_of_ages\n",
    "        \n",
    "        \n",
    "person_count=int(input(\"How many persons do you want to add? \"))\n",
    "if person_count<=0 :\n",
    "    print(\"Number not valid\")\n",
    "else: \n",
    "    print(make_list_of_ages(person_count))\n",
    "    \n",
    "## END SOLUTION"
   ]
  }
 ],
 "metadata": {
  "celltoolbar": "Create Assignment",
  "kernelspec": {
   "display_name": "Python 3",
   "language": "python",
   "name": "python3"
  },
  "language_info": {
   "codemirror_mode": {
    "name": "ipython",
    "version": 3
   },
   "file_extension": ".py",
   "mimetype": "text/x-python",
   "name": "python",
   "nbconvert_exporter": "python",
   "pygments_lexer": "ipython3",
   "version": "3.7.3"
  }
 },
 "nbformat": 4,
 "nbformat_minor": 2
}
