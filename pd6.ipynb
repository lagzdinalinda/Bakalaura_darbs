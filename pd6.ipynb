{
 "cells": [
  {
   "cell_type": "markdown",
   "metadata": {},
   "source": [
    "### Matemātika programmētajiem. Programmēšanas valoda Python."
   ]
  },
  {
   "cell_type": "markdown",
   "metadata": {},
   "source": [
    "# 6. Praktiskai darbs - Divdimensiju matricas un lineāru vienādojumu sistēmas"
   ]
  },
  {
   "cell_type": "markdown",
   "metadata": {},
   "source": [
    "### Divdimensiju matricas"
   ]
  },
  {
   "cell_type": "markdown",
   "metadata": {},
   "source": [
    "1.Programmēšanas valodā Python divdimensiju matrica var attēlot kā sarakstu, kas sastāv no sarakstiem - katra matricas rinda tiek uztverta kā atsevišķs saraksts. <br>\n",
    "Lai izprastu, kā tas notiek, apskatīsim matricas $M=\\begin{pmatrix} \n",
    "9 & 7 & 6\\\\\n",
    "5 & 1 & 0\n",
    "\\end{pmatrix}$ attēlojumu"
   ]
  },
  {
   "cell_type": "code",
   "execution_count": null,
   "metadata": {},
   "outputs": [],
   "source": [
    "m = ([9, 7, 6], [5, 1, 0])\n",
    "print(m)"
   ]
  },
  {
   "cell_type": "markdown",
   "metadata": {},
   "source": [
    "Šobrīd izvadītie skaitļi ne pārāk izskatās pēc matricas. Izmantosim funkciju `matrix` no moduļa `numpy`, lai \"pateiktu\", ka vēlamies izvadīt sarakstu kā matricu"
   ]
  },
  {
   "cell_type": "code",
   "execution_count": null,
   "metadata": {},
   "outputs": [],
   "source": [
    "import numpy\n",
    "print(numpy.matrix(m))"
   ]
  },
  {
   "cell_type": "markdown",
   "metadata": {},
   "source": [
    "Izveidojiet savu funkciju, kas izsauc šo `numpy` funkciju un izvada matricu"
   ]
  },
  {
   "cell_type": "code",
   "execution_count": null,
   "metadata": {},
   "outputs": [],
   "source": [
    "def printMatrix(s):\n",
    "    \n",
    "## BEGIN SOLUTION\n",
    "    print(numpy.matrix(s))\n",
    "## END SOLUTIN\n",
    "printMatrix(m)"
   ]
  },
  {
   "cell_type": "markdown",
   "metadata": {},
   "source": [
    "2. Izveidosim aizplidītu ar nullēm matricu, kam ir 4 rindas un 5 kolonnas"
   ]
  },
  {
   "cell_type": "code",
   "execution_count": null,
   "metadata": {},
   "outputs": [],
   "source": [
    "rows, columns = 4, 5\n",
    "arr = [[0 for i in range(columns)] for j in range(rows)]\n",
    "printMatrix(arr)"
   ]
  },
  {
   "cell_type": "markdown",
   "metadata": {},
   "source": [
    "3. Lai piekļūtu matricas elementam, ir jāzina tā atrašanās vieta matricā - kurā rindā un kurā kolonnā tas atrodas. <br>\n",
    "Ievietosim tikko izveidotā masīva 2. rindas 4. kolonna vērtību 9"
   ]
  },
  {
   "cell_type": "code",
   "execution_count": null,
   "metadata": {},
   "outputs": [],
   "source": [
    "arr[1][3]=9\n",
    "printMatrix(arr)"
   ]
  },
  {
   "cell_type": "markdown",
   "metadata": {},
   "source": [
    "Elements tika ievietots 2.rindas 4.kolonnā, bet skriptā tika norādīts [1][3] <br>\n",
    "Kāpēc?"
   ]
  },
  {
   "cell_type": "markdown",
   "metadata": {},
   "source": [
    "Ievietojiet elementu ar vērtību 5 3.rindas 4.kolonnā "
   ]
  },
  {
   "cell_type": "code",
   "execution_count": null,
   "metadata": {},
   "outputs": [],
   "source": [
    "## BEGIN SOLUTION\n",
    "arr[2][1]=5\n",
    "printMatrix(arr)\n",
    "## END SOLUTION "
   ]
  },
  {
   "cell_type": "markdown",
   "metadata": {},
   "source": [
    "4. Izmantosim `for` ciklus, lai aizpildītu visus matricas elementus ar skaitļiem augošā secībā"
   ]
  },
  {
   "cell_type": "code",
   "execution_count": null,
   "metadata": {},
   "outputs": [],
   "source": [
    "n=0\n",
    "for i in range(rows):\n",
    "    for j in range(columns):\n",
    "        arr[i][j]=n\n",
    "        n+=1\n",
    "printMatrix(arr)\n",
    "\n",
    "## BEGIN SOLUTIN\n",
    "for i in range(rows):\n",
    "    for j in range(columns):\n",
    "        if j%2==0 :\n",
    "            arr[i][j]=n\n",
    "            n+=1\n",
    "printMatrix(arr)\n",
    "## END SOLUTION"
   ]
  },
  {
   "cell_type": "markdown",
   "metadata": {},
   "source": [
    "Izpētiet tikko izmantoto kodu un izmainiet to tā, lai tiktu aizpildīta tikai katra otrā kolonna"
   ]
  },
  {
   "cell_type": "markdown",
   "metadata": {},
   "source": [
    "5.Saskaitot divas matricas, saskaita to atbilstošos elementus.\n",
    "**Atgādinājums**: Saskaitīt un atņemt drīkst tikai vienāda izmēra matricas!"
   ]
  },
  {
   "cell_type": "code",
   "execution_count": null,
   "metadata": {},
   "outputs": [],
   "source": [
    "arr1=([1, 2, 3], [1, 2, 3], [1, 2, 3])\n",
    "arr2=([1, 0, 0], [0, 1, 0], [0, 0, 1])\n",
    "\n",
    "arrSum = [[0 for i in range(3)] for j in range(3)]\n",
    "\n",
    "for i in range(3):\n",
    "    for j in range(3):\n",
    "        arrSum[i][j] = arr1[i][j] + arr2[i][j]\n",
    "        \n",
    "printMatrix(arrSum)"
   ]
  },
  {
   "cell_type": "markdown",
   "metadata": {},
   "source": [
    "6. Veicot matricu atņemšanu, atņem to atbilstošos elementus. Izmantojot iepriekšējo piemēru kā paraugu, uzrakstiet matricu atņemšanu"
   ]
  },
  {
   "cell_type": "code",
   "execution_count": null,
   "metadata": {
    "scrolled": true
   },
   "outputs": [],
   "source": [
    "##BEGIN SOLUTION\n",
    "arrMin = [[0 for i in range(3)] for j in range(3)]\n",
    "for i in range(3):\n",
    "    for j in range(3):\n",
    "        arrMin[i][j] = arr1[i][j] - arr2[i][j]\n",
    "        \n",
    "printMatrix(arrMin)\n",
    "##END SOLUTION"
   ]
  },
  {
   "cell_type": "raw",
   "metadata": {},
   "source": [
    "7. Matricas reizināšana ar veselu skaitli notiek ļoti līdzīgi - katrs matricas elements jāsareizina ar doto skaitli. Uzrakstiet skriptu matricas `arr1` reiznāšanai ar 7"
   ]
  },
  {
   "cell_type": "code",
   "execution_count": null,
   "metadata": {},
   "outputs": [],
   "source": [
    "##BEGIN SOLUTION\n",
    "arrMultiplByNumber = [[0 for i in range(3)] for j in range(3)]\n",
    "for i in range(3):\n",
    "    for j in range(3):\n",
    "        arrMultiplByNumber[i][j] = arr1[i][j] * 3\n",
    "        \n",
    "printMatrix(arrMultiplByNumber)\n",
    "##END SOLUTION"
   ]
  },
  {
   "cell_type": "markdown",
   "metadata": {},
   "source": [
    "9. Šīs darbības ir iespējams veikt arī ar moduļa `numpy` palīdzību. <br>\n",
    "Piemērā parādīta saskaitīšana izmantojot `numpy` moduli"
   ]
  },
  {
   "cell_type": "code",
   "execution_count": null,
   "metadata": {},
   "outputs": [],
   "source": [
    "arrSum= numpy.array(arr1)+numpy.array(arr2)\n",
    "printMatrix(arrSum)"
   ]
  },
  {
   "cell_type": "markdown",
   "metadata": {},
   "source": [
    "Pēc šī piemēra, uzrakstiet matricu atņemšanu"
   ]
  },
  {
   "cell_type": "code",
   "execution_count": null,
   "metadata": {},
   "outputs": [],
   "source": [
    "arrMin= numpy.array(arr1)-numpy.array(arr2)\n",
    "printMatrix(arrMin)"
   ]
  },
  {
   "cell_type": "markdown",
   "metadata": {},
   "source": [
    "10. Matricas reizināšana ar veslu skaitli notiek līdzīgi kā matricu saskaitīšana, tikai `+` aizstājot ar `*` un otrās matricas vieta ierakstot skaitli, ar ko vēlaties reizināt. <br>\n",
    "Uzrakstiet skriptu matricas `arr1` reizināšanai ar 8"
   ]
  },
  {
   "cell_type": "code",
   "execution_count": null,
   "metadata": {
    "scrolled": true
   },
   "outputs": [],
   "source": [
    "## BEGIN SOLUTION\n",
    "arrMulti= numpy.array(arr1)*8\n",
    "printMatrix(arrMulti)\n",
    "## END SOLUTION"
   ]
  },
  {
   "cell_type": "markdown",
   "metadata": {},
   "source": [
    "**Ieteikums**: Salīdziniet ar funkciju `dot` iegūto rezultātu un iepriekš uzrakstītās `matrixmultipl` rezultātu, lai pārbaudītu, vai `matrixmultipl` ir uzrakstīta pareizi."
   ]
  },
  {
   "cell_type": "markdown",
   "metadata": {},
   "source": [
    "<br>\n",
    "11. Reizinājuma rezultātā iegūtās matricas rindu skaits ir tāds pats kā matricas A rindu skaits un kolonnu skaits sakrīt ar kolonnas B rindu skaitu. <br>\n",
    "<br>\n",
    "Reizinot iegūtajā matricā katrs [i][j] elements ir iegūts saskaitot visus matricas B j-tāš rindas atbilstošos reizinājumus<br> \n",
    "<br>\n",
    "**Atgādinājums**: Matricas  A  un  B  reizināt drīkst tikai tad, ja matricas  A  kolonnu skaits sakrīt ar matricas  B  rindu skaitu. <br>\n",
    "<br>\n",
    "Tālāk ir redzama funkcija matricu reizināšanai, bet tajā ir kļūda. Atrodiet un izlabojiet to."
   ]
  },
  {
   "cell_type": "code",
   "execution_count": null,
   "metadata": {},
   "outputs": [],
   "source": [
    "a1=([0, 0, 0], [5, 5, 5], [8, 8, 8], [9, 9, 9])\n",
    "b1=([1, 1, 1, 1], [2, 2, 2, 2], [4, 4, 4, 4])\n",
    "\n",
    "def matrixmultipl (A, B) :\n",
    "    C = [[0 for row in range(len(A))] for col in range(len(B[0]))]\n",
    "    for i in range(len(A)):\n",
    "        for j in range(len(B[0])):\n",
    "            for k in range(len(B)):\n",
    "                C[j][i] += A[i][k]*B[k][j]\n",
    "    return C\n",
    "\n",
    "printMatrix(matrixmultipl(a1, b1))\n",
    "## BEGIN SOLUTIN\n",
    "#it scould be C[i][j]\n",
    "## END SOLUTION"
   ]
  },
  {
   "cell_type": "markdown",
   "metadata": {},
   "source": [
    "Matricu reizināšanai var izmantot moduļa `numpy` funkciju `dot` "
   ]
  },
  {
   "cell_type": "code",
   "execution_count": null,
   "metadata": {
    "scrolled": true
   },
   "outputs": [],
   "source": [
    "c=numpy.dot(a1, b1)\n",
    "printMatrix(c)"
   ]
  },
  {
   "cell_type": "markdown",
   "metadata": {},
   "source": [
    "12. Kāpinot matrica tiek reizināta pati ar sevi, tāpēc kāpināt drīkst tikai kvadrātiskas matricas"
   ]
  },
  {
   "cell_type": "code",
   "execution_count": null,
   "metadata": {},
   "outputs": [],
   "source": [
    "a3=([6, 1, 1],[4, -2, 5],[2, 8, 7])\n",
    "def powMatrix (ma, n) :\n",
    "    if len(ma)!=len(ma[0]) :\n",
    "        print(\"Operation not opssible, matrix is not square\")\n",
    "    else :\n",
    "        for i in range(n) :\n",
    "            res = numpy.dot(ma, ma)\n",
    "    return res\n",
    "\n",
    "c3=powMatrix(a3,2)\n",
    "printMatrix(c3)\n",
    "\n",
    "## BEGIN SOLUTIN\n",
    "#it scould be C[i][j]\n",
    "## END SOLUTION"
   ]
  },
  {
   "cell_type": "markdown",
   "metadata": {},
   "source": [
    "13. Lai iegūtu matricas determinantu, var izmantot funkciju `linalg.det(...)` no moduļa `numpy`\n"
   ]
  },
  {
   "cell_type": "code",
   "execution_count": null,
   "metadata": {},
   "outputs": [],
   "source": [
    "print(numpy.linalg.det(a3))"
   ]
  },
  {
   "cell_type": "markdown",
   "metadata": {},
   "source": [
    "14. Izmantojot funkciju `help`, apskatiet `numpy.linag` dokumentaciju un atrodiet, ar kādu funkciju iespējams atrast inverso matricu."
   ]
  },
  {
   "cell_type": "code",
   "execution_count": null,
   "metadata": {
    "scrolled": true
   },
   "outputs": [],
   "source": [
    "## BEGIN SOLUTION\n",
    "help(numpy.linalg)\n",
    "## END SOLUTION"
   ]
  },
  {
   "cell_type": "markdown",
   "metadata": {},
   "source": [
    "Izmantojot atrasto funkciju, iegūstiet dotās matricas inverso matricu"
   ]
  },
  {
   "cell_type": "code",
   "execution_count": null,
   "metadata": {},
   "outputs": [],
   "source": [
    "a5=([1, 2, 3], [0, 1, 5], [5, 6, 0])\n",
    "## BEGIN SOLUTION\n",
    "c4=numpy.linalg.inv(a5)\n",
    "printMatrix(c4)\n",
    "## END SOLUTION\n"
   ]
  },
  {
   "cell_type": "markdown",
   "metadata": {},
   "source": [
    "15. Uzrakstiet skriptu, kas atgriež matricas `a5` transponēto matricu. <br>\n",
    "**Atgādinājums** : transponēto matricu iegūst dotās matricas rindas elementus mainot vietām ar atbilstošās kolonnas elementiem"
   ]
  },
  {
   "cell_type": "code",
   "execution_count": null,
   "metadata": {
    "scrolled": true
   },
   "outputs": [],
   "source": [
    "##BEGIN SOLUTION\n",
    "tmp=len(a5)\n",
    "arrTransp = [[0 for i in range(tmp)] for j in range(tmp)]\n",
    "for i in range(tmp):\n",
    "    for j in range(tmp):\n",
    "        arrTransp[i][j] = a5[j][i]\n",
    "        \n",
    "printMatrix(arrTransp)\n",
    "##END SOLUTION"
   ]
  },
  {
   "cell_type": "markdown",
   "metadata": {},
   "source": [
    "Transponēto matricu var iegūt ar moduļa `numpy` funkciju `matrix.transpose(...)`. Izmantojot to, iegūstiet matricas `a5` transponeto matricu lai pārbaudītu, vai iepriekšējais uzdevums izpildīts pareizi."
   ]
  },
  {
   "cell_type": "code",
   "execution_count": null,
   "metadata": {
    "scrolled": true
   },
   "outputs": [],
   "source": [
    "## BEGIN SOLUTION\n",
    "printMatrix((numpy.array(a5)).transpose())\n",
    "## END SOLUTION"
   ]
  },
  {
   "cell_type": "markdown",
   "metadata": {},
   "source": [
    "**Padoms**: Ja kāda fukcija sagādā grūtības, apskatiet tās dokumentāciju un pievērsiet uzmanību tur atrodamajiem piemēriem"
   ]
  },
  {
   "cell_type": "markdown",
   "metadata": {},
   "source": [
    "### Lineāru vienādojumu sistēmas"
   ]
  },
  {
   "cell_type": "markdown",
   "metadata": {},
   "source": [
    "16. Ir dota lineāra vienādojumu sistēma \n",
    "\\begin{cases} 5x+3y-z=-1 \\\\ x-y+z=0 \\\\ 2x-3y-z=5  \\end{cases}\n",
    "Lai to atrisinātu izmantojot matricas un programmēšanas valodas Python piedāvātās iespējas, vispirms jāizveido sistēmas koeficentu matrica:"
   ]
  },
  {
   "cell_type": "code",
   "execution_count": null,
   "metadata": {},
   "outputs": [],
   "source": [
    "a=([5, 3, -1], [1, -1, 1], [2, -3, -1])"
   ]
  },
  {
   "cell_type": "markdown",
   "metadata": {},
   "source": [
    "Tad jāizveido brīvo locekļu matrica:"
   ]
  },
  {
   "cell_type": "code",
   "execution_count": null,
   "metadata": {},
   "outputs": [],
   "source": [
    "b=[-1, 0, 5]"
   ]
  },
  {
   "cell_type": "markdown",
   "metadata": {},
   "source": [
    "Tagad atrisināt sistēmu var izmantojot funkciju `linalg.solve` no moduļa `numpy`."
   ]
  },
  {
   "cell_type": "code",
   "execution_count": null,
   "metadata": {},
   "outputs": [],
   "source": [
    "res=numpy.linalg.solve(a, b)\n",
    "printMatrix(res)"
   ]
  },
  {
   "cell_type": "markdown",
   "metadata": {},
   "source": [
    "Iegūta matrica, kur pirmais elements ir pirmā vienādojuma atrisinājums, otrais ir otrā vienādojuma atrisinājums utt. "
   ]
  },
  {
   "cell_type": "markdown",
   "metadata": {},
   "source": [
    "Izmantojot `numpy.allclose(...)` iespējams pārbaudīt, vai kāds vērtību saraksts ir derīgs kā dotāš lineāras vienadojumu sistēmas atrisinajums. Piemēram, pārbaudīsim, vai [0.2, 2, 1.3] ir atrisinājums iepriekšējā uzdevumā dotajai sistēmai."
   ]
  },
  {
   "cell_type": "code",
   "execution_count": null,
   "metadata": {
    "scrolled": true
   },
   "outputs": [],
   "source": [
    "x=[0.2, 2, 1.3]\n",
    "numpy.allclose(numpy.dot(a, x), b)"
   ]
  },
  {
   "cell_type": "markdown",
   "metadata": {},
   "source": [
    "Kā redzams, šie rezultāti neder kā dotās sistēmas atrisinājums."
   ]
  },
  {
   "cell_type": "markdown",
   "metadata": {
    "nbgrader": {
     "grade": false,
     "grade_id": "ib5",
     "locked": true,
     "schema_version": 1,
     "solution": false
    }
   },
   "source": [
    "## Izejas biļete"
   ]
  },
  {
   "cell_type": "markdown",
   "metadata": {
    "nbgrader": {
     "grade": false,
     "grade_id": "i1_question",
     "locked": true,
     "schema_version": 1,
     "solution": false
    }
   },
   "source": [
    "i1 Atrisiniet lineāro vienādojumu sistēmu\n",
    "\\begin{cases} 5x-2z=-1 \\\\ y+z=2 \\\\ 2x+y=6  \\end{cases}"
   ]
  },
  {
   "cell_type": "code",
   "execution_count": null,
   "metadata": {
    "nbgrader": {
     "grade": false,
     "grade_id": "i1_answer",
     "locked": false,
     "schema_version": 1,
     "solution": true
    }
   },
   "outputs": [],
   "source": [
    "## BEGIN SOLUTION\n",
    "a=([5, 0, -2],[0, 1, 1], [2, 1, 0])\n",
    "b=[-1, 2, 6]\n",
    "res=numpy.linalg.solve(a, b)\n",
    "printMatrix(res)\n",
    "##END SOLUTION\n"
   ]
  },
  {
   "cell_type": "code",
   "execution_count": null,
   "metadata": {
    "nbgrader": {
     "grade": true,
     "grade_id": "i1_test",
     "locked": true,
     "points": 2,
     "schema_version": 1,
     "solution": false
    }
   },
   "outputs": [],
   "source": [
    "assert numpy.allclose(numpy.dot(a, res), b) == True"
   ]
  },
  {
   "cell_type": "markdown",
   "metadata": {
    "nbgrader": {
     "grade": false,
     "grade_id": "i2_question",
     "locked": true,
     "schema_version": 1,
     "solution": false
    }
   },
   "source": [
    "i2 Iegūstiet doto matricu reizinājumu"
   ]
  },
  {
   "cell_type": "code",
   "execution_count": null,
   "metadata": {
    "nbgrader": {
     "grade": true,
     "grade_id": "i2_answer",
     "locked": false,
     "points": 2,
     "schema_version": 1,
     "solution": true
    }
   },
   "outputs": [],
   "source": [
    "a2=([1, 0, 5], [5, 8, 0], [4, 0, 1])\n",
    "b2=([1, 5, 1, ], [3, 9, 2], [4, -5, -4])\n",
    "## BEGIN SOLUTION\n",
    "c2=numpy.dot(a2, b2)\n",
    "printMatrix(c2)\n",
    "## END SOLUTION\n"
   ]
  }
 ],
 "metadata": {
  "celltoolbar": "Create Assignment",
  "kernelspec": {
   "display_name": "Python 3",
   "language": "python",
   "name": "python3"
  },
  "language_info": {
   "codemirror_mode": {
    "name": "ipython",
    "version": 3
   },
   "file_extension": ".py",
   "mimetype": "text/x-python",
   "name": "python",
   "nbconvert_exporter": "python",
   "pygments_lexer": "ipython3",
   "version": "3.7.3"
  }
 },
 "nbformat": 4,
 "nbformat_minor": 2
}
