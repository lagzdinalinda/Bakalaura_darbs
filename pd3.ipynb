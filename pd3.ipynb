{
 "cells": [
  {
   "cell_type": "markdown",
   "metadata": {},
   "source": [
    "### Matemātika programmētajiem. Programmēšanas valoda Python."
   ]
  },
  {
   "cell_type": "markdown",
   "metadata": {},
   "source": [
    "# 3. praktiskais darbs - Saraksti"
   ]
  },
  {
   "cell_type": "markdown",
   "metadata": {},
   "source": [
    "1. Sarakstu (`list`) deklarē izmantojot kvadrātiekavas un atdalot elementus ar komatu. Sarakstam nav noteikts elementu skaits - to var patvaļīgi izvēlēties. Elementi var būt dažādu tipu.<br>\n",
    "Ar funkcijas `len(...)` palīdzību iespējams noskaidrot elementu skaitu sarakstā.<br>\n",
    "Izmēģini šos piemērus: <br>\n",
    "<br>\n",
    "len( [] ) <br>\n",
    "len( [0, 1, 2, 3, 4] ) <br>\n",
    "len( [\"a\", 1, [] ] ) <br>"
   ]
  },
  {
   "cell_type": "code",
   "execution_count": null,
   "metadata": {},
   "outputs": [],
   "source": [
    "len( [] )"
   ]
  },
  {
   "cell_type": "markdown",
   "metadata": {},
   "source": [
    "2. Izmantojot `append`, var saraksta beigās pievienot jaunu elementu."
   ]
  },
  {
   "cell_type": "code",
   "execution_count": null,
   "metadata": {},
   "outputs": [],
   "source": [
    "x = []\n",
    "x.append(1)\n",
    "x.append(2)\n",
    "print(x)"
   ]
  },
  {
   "cell_type": "markdown",
   "metadata": {},
   "source": [
    "3. Ja nepieciešams pievienot sarakstam vairākus elementus uzreiz, to var izdarīt ar `extend`  <br>\n",
    "**Piezīme**: tā kā Jupyter Notebook šūnas \"redz\" viena otru, nav nepieciešams katru reizi veidot jaunu sarakstu - var turpināt darbu ar jau esošo"
   ]
  },
  {
   "cell_type": "code",
   "execution_count": null,
   "metadata": {},
   "outputs": [],
   "source": [
    "x.extend([3, 4])\n",
    "print(x)"
   ]
  },
  {
   "cell_type": "markdown",
   "metadata": {},
   "source": [
    "4. Divus sarakstus var saskaitīt kopā"
   ]
  },
  {
   "cell_type": "code",
   "execution_count": null,
   "metadata": {},
   "outputs": [],
   "source": [
    "y = [5, 6] + [7, 8]\n",
    "print(\"y = \", y)"
   ]
  },
  {
   "cell_type": "markdown",
   "metadata": {},
   "source": [
    "5. Sarakstus var reizināt ar veselu skaitli"
   ]
  },
  {
   "cell_type": "code",
   "execution_count": null,
   "metadata": {},
   "outputs": [],
   "source": [
    "y=[\"a\"] * 3\n",
    "print(\"y = \", y)"
   ]
  },
  {
   "cell_type": "markdown",
   "metadata": {},
   "source": [
    "6. Ir jābūt uzmanīgiem piešķirot sarakstam vērtības - piešķirot vienam sarakstam cita saraksta vērtības, saraksts netiek kopēts, bet gan tiek veidota norāde uz oriģinālo sarakstu. Veicot izmaiņas vienā sarakstā, tās pašas izmaiņas tiks veiktas arī otrā."
   ]
  },
  {
   "cell_type": "code",
   "execution_count": null,
   "metadata": {},
   "outputs": [],
   "source": [
    "print(\"x :\", x)\n",
    "y = x\n",
    "x.append(5)\n",
    "print(\"x :\", x)\n",
    "print(\"y :\", y)\n",
    "x == y"
   ]
  },
  {
   "cell_type": "markdown",
   "metadata": {},
   "source": [
    "Ja ir nepieciešami divi saraksti ar vienādām vērtībam, bet bez norādes uz oriģinālo sarakstu (lai veicot izmaiņas vienā, tās neatspoguļojas otrā), tad jāizmanto `copy`"
   ]
  },
  {
   "cell_type": "code",
   "execution_count": null,
   "metadata": {},
   "outputs": [],
   "source": [
    "y = x.copy()\n",
    "x.append(6)\n",
    "x != y"
   ]
  },
  {
   "cell_type": "markdown",
   "metadata": {},
   "source": [
    "Ir **ļoti svarīgi** saprast un iegaumēt atšķirību starp piešķiršanas un kopēšanas operatoriem!"
   ]
  },
  {
   "cell_type": "markdown",
   "metadata": {},
   "source": [
    "6. Līdzīgi kā tas bija `string`, ir iespējams pārbaudīt, vai sarakstā ir kāda konkrēta vērtība."
   ]
  },
  {
   "cell_type": "code",
   "execution_count": null,
   "metadata": {},
   "outputs": [],
   "source": [
    "a = [1, 2, 1, 2, 3, 3, 5]\n",
    "4 in a\n",
    "## BEGIN SOLUTION\n",
    "2 in a\n",
    "## END SOLUTION"
   ]
  },
  {
   "cell_type": "markdown",
   "metadata": {},
   "source": [
    "Izmainiet doto kodu, lai tas parbaudītu vai saranstā `a` ir vērtība 2"
   ]
  },
  {
   "cell_type": "markdown",
   "metadata": {},
   "source": [
    "7. Izmantojot `count(...)` var noskaidrot, cik reizes kāda vērtība atkārtojas sarakstā. Piemēra tiek atgriezts, cik reizes vērtība $3$ atkārtojas sarakstā `a`.<br>\n",
    "Noskaidrojiet, cik reizes atkārtojas vērtība $1$ un cik reizes atkārtojas vērtība $7$"
   ]
  },
  {
   "cell_type": "code",
   "execution_count": null,
   "metadata": {},
   "outputs": [],
   "source": [
    "a.count(3)\n",
    "## BEGIN SOLUTION\n",
    "print(\"repeats of 1 :\", a.count(1))\n",
    "print(\"repeats of 7 :\", a.count(7))\n",
    "## END SOLUTION"
   ]
  },
  {
   "cell_type": "markdown",
   "metadata": {},
   "source": [
    "8. Elementu secība sarakstā nemainās, ja vien tā netiek speciāli mainīta. Pateicoties tam, mēs varam izmantot elementu **indeksus** - veselus skaitļus, kas apzīmē elementa atrašanās vietu. <br>\n",
    "Programmēšanas valodās prasti sāk skaitīt no **nulles** - pirmajam  elementam būs indekss 0, otrajam elementam būs indekss 2, utt."
   ]
  },
  {
   "cell_type": "code",
   "execution_count": null,
   "metadata": {},
   "outputs": [],
   "source": [
    "a[0]\n",
    "## BEGIN SOLUTION\n",
    "a[3]\n",
    "## END SOLUTION"
   ]
  },
  {
   "cell_type": "markdown",
   "metadata": {},
   "source": [
    "Izmaniet kodu, lai noskaidrotu, kurš elements atrodas saraksta `a` vietā ar indeksu $3$ "
   ]
  },
  {
   "cell_type": "markdown",
   "metadata": {},
   "source": [
    "9. Strādājot ar ptogrammēšanas valodu Python, ir iespējams piekļūt elementiem arī izmantojot negatīvus skaitļus, piemēram pēdējā saraksta elementa indekss ir -1. <br>\n",
    "Tas ir noderīgi, jo, nav nepieciešams zināt saraksta elementu skaitu, lai aprēķinātu pareizo indeksu:"
   ]
  },
  {
   "cell_type": "code",
   "execution_count": null,
   "metadata": {},
   "outputs": [],
   "source": [
    "a[-1]\n",
    "a[len(a)-1] # not neccecary, because we can do the same thing easier(see previous line)"
   ]
  },
  {
   "cell_type": "markdown",
   "metadata": {},
   "source": [
    "10. Kāda vērtība atrodas saraksta priekšpēdējā indeksā?"
   ]
  },
  {
   "cell_type": "code",
   "execution_count": null,
   "metadata": {},
   "outputs": [],
   "source": [
    "## BEGIN SOLUTION\n",
    "a[-2]\n",
    "## END SOLUTION"
   ]
  },
  {
   "cell_type": "markdown",
   "metadata": {},
   "source": [
    "11. Ja zināma elementa vērtība, to masīva var izdzēst izmantojot `remove(...)`"
   ]
  },
  {
   "cell_type": "code",
   "execution_count": null,
   "metadata": {},
   "outputs": [],
   "source": [
    "b = [1, 5, 9, 2, 1, 5, 10, -4, 5, 1, 6, 3]\n",
    "b.remove(5)\n",
    "## BEGIN SOLUTION\n",
    "b.remove(1)\n",
    "## END SOLUTION\n",
    "print(b)\n"
   ]
  },
  {
   "cell_type": "markdown",
   "metadata": {},
   "source": [
    "Kas notiek, ja vēlas izdzēst elementu pēc vērtības, bet šāda vērtība sarakstā atkārtojas vairākas reizes?"
   ]
  },
  {
   "cell_type": "markdown",
   "metadata": {},
   "source": [
    "11. Ja zināms elementa indekss, to no saraksta var izdzēst lietojot atslēgasvārdu **del**"
   ]
  },
  {
   "cell_type": "code",
   "execution_count": null,
   "metadata": {},
   "outputs": [],
   "source": [
    "del b[1]"
   ]
  },
  {
   "cell_type": "markdown",
   "metadata": {},
   "source": [
    "12. Sarakstā var piekļūt ne tikai atsevišķiem elementiem, bet arī veselai elementu apakškopai. Programmēšanas valoda Pyhton to sauc par **segmentu** (slice). <br>\n",
    "Lai piekļutu segmentam, ir jānosaka tā sākuma indekss(`slice_start`) un beigu indekss(`slice_end`). "
   ]
  },
  {
   "cell_type": "code",
   "execution_count": null,
   "metadata": {},
   "outputs": [],
   "source": [
    "c = [1, 5, 9, 2, 1, 5, 10, -4, 5, -3, 6, 3]\n",
    "slice_start=3\n",
    "slice_end=7"
   ]
  },
  {
   "cell_type": "markdown",
   "metadata": {},
   "source": [
    "Izmantojot šos divus indeksus, varam piekļūt trim dažādiem segmentiem:\n",
    "- segmentam, kas sākas ar `slice_start` (ieskaitot) un beidzas saraksta beigās\n",
    "- segmentam, kas sākas saraksta sākumā un beidzas ar `slice_end`(neieskaitot)\n",
    "- segmentam, kas sākas ar `slice_start` (ieskaitot) un beidzas ar `slice_end`(neieskaitot)"
   ]
  },
  {
   "cell_type": "code",
   "execution_count": null,
   "metadata": {},
   "outputs": [],
   "source": [
    "c[slice_start : ] # from slice_stat(inclusive) to end of list"
   ]
  },
  {
   "cell_type": "code",
   "execution_count": null,
   "metadata": {},
   "outputs": [],
   "source": [
    "c[ : slice_end] # from beginning of the list to slice_end(exclusive)"
   ]
  },
  {
   "cell_type": "code",
   "execution_count": null,
   "metadata": {},
   "outputs": [],
   "source": [
    "c[slice_start : slice_end] # from slice_start (inclusive) to slice_end (exclusive)"
   ]
  },
  {
   "cell_type": "markdown",
   "metadata": {},
   "source": [
    "Veicot izmaiņas dotajā kodā, izmēģiniet segmentu veidošanu ar citiem piemēriem, lai labāk izprastu, kā tā darbojas."
   ]
  },
  {
   "cell_type": "markdown",
   "metadata": {},
   "source": [
    "**Piezīme**: Ievērojiet, ka sākuma indekss vienmēr tiek iekļauts atslēgumā, bet beigu indekss netiek iekļauts. Ja kā kā sākuma un beigu indeksu uzstāda kā vienu un to pašu vērtību, tas sadalīs sarakstu divos sarakstos, kas nepārklāsies. Tas ir nodemonstrēts nākošajā koda šūnā."
   ]
  },
  {
   "cell_type": "code",
   "execution_count": null,
   "metadata": {},
   "outputs": [],
   "source": [
    "c == c[ : 6] + c[6 : ]"
   ]
  },
  {
   "cell_type": "markdown",
   "metadata": {},
   "source": [
    "13. Elementus sarakstā ir iespējams sakārtot. Lai to izdarītu, elementiem jābūt **sakārtojamiem** - tadiem, ko vērtības iespējams salīdzināt izmantojot salīzināšanas operatorus ($==$, $<$, $<=$, $>$, $>=$) <br>\n",
    "Ir divi iespējamie kārtošanas kārtošanas paņēmieni. Izmantojot `sort(...)`, elementi tiek sakārtoti tajā pašā sarakstā, kur tie atrodas. "
   ]
  },
  {
   "cell_type": "code",
   "execution_count": null,
   "metadata": {},
   "outputs": [],
   "source": [
    "print(c)\n",
    "c.sort()\n",
    "print(\"c after using sort:\", c)"
   ]
  },
  {
   "cell_type": "markdown",
   "metadata": {},
   "source": [
    "Izmantojot `sorted(...)`, teik izveidota saraksta kopija, kura tiek sakārtota, bet oriģinālais saraksta paliek bez izmaiņām."
   ]
  },
  {
   "cell_type": "code",
   "execution_count": null,
   "metadata": {},
   "outputs": [],
   "source": [
    "d=[1, 5, 9, 2, 1, 5, 10, -4, 5, -3, 6, 3]\n",
    "e=sorted(d)\n",
    "print(\"d after using sorted:\", d)\n",
    "print(\"e:\", e)\n"
   ]
  },
  {
   "cell_type": "markdown",
   "metadata": {},
   "source": [
    "`sort` un `sorted` sakārto elementus augošā secībā. Ja nepieciešams sakārtot elementus dilstošā jeb pretējā secībā (`reverse`), tad to norāda kā otro argumentu"
   ]
  },
  {
   "cell_type": "code",
   "execution_count": null,
   "metadata": {},
   "outputs": [],
   "source": [
    "sorted([-5, 5, 0, 9, 19, -1], reverse = True)"
   ]
  },
  {
   "cell_type": "markdown",
   "metadata": {},
   "source": [
    "14. Lai atrastu mazāko saraksta elementu, ir paredzēta funkcija `min(...)`. Lielākā elementa atrašanai ir funkcija `max(...)`.<br>\n",
    "Atrodiet saraksta `d` lielāko un mazāko elementu"
   ]
  },
  {
   "cell_type": "code",
   "execution_count": null,
   "metadata": {},
   "outputs": [],
   "source": [
    "## BEGIN SOLUTION\n",
    "min(d)\n",
    "max(d)\n",
    "## END SOLUTION"
   ]
  },
  {
   "cell_type": "markdown",
   "metadata": {},
   "source": [
    "15. Uzrakstiet savu funkciju `my_max`, kas, izmantojot `sort` vai `sorted`, atrod lielāko elementu sarakstā."
   ]
  },
  {
   "cell_type": "code",
   "execution_count": null,
   "metadata": {},
   "outputs": [],
   "source": [
    "## BEGIN SOLUTION\n",
    "def my_max(m) :\n",
    "    n=sorted(d, reverse=True)\n",
    "    return n[0]\n",
    "print(my_max(d))\n",
    "## END SOLUTION\n"
   ]
  },
  {
   "cell_type": "markdown",
   "metadata": {},
   "source": [
    "16. Ir iespējams iegūt sarakstu ar elementiem pretēja seībā, nekā dotā saraksta elementi. Piemēram, no saraksta [1, 9,-8, 0] iegūt sarakstu [0, -8, 9, 1]"
   ]
  },
  {
   "cell_type": "code",
   "execution_count": null,
   "metadata": {},
   "outputs": [],
   "source": [
    "l1=[1, 9,-8, 0] \n",
    "l2=l1[::-1]\n",
    "print(l2)"
   ]
  },
  {
   "cell_type": "markdown",
   "metadata": {},
   "source": [
    "Kura kārtošanas funkcija ir piemērotāka šaja situācijā? Kāpēc?"
   ]
  },
  {
   "cell_type": "markdown",
   "metadata": {},
   "source": [
    "17. Funkcija `sum(...)` atgriež visu saraksta elementu summu.<br>\n",
    "Izlabo kodu, lai funkcija `mean` atgrieztu saraksta aritmētisko vidējo.<br>\n",
    "**Padoms**: Aritmētiskais vidējais tiek aprēķināts pēc firmulas $a_1$; $a_2$;$...$; $a_n$ is $ \\frac{1}{n} \\sum_{i=1}^{n}=a_i$"
   ]
  },
  {
   "cell_type": "code",
   "execution_count": null,
   "metadata": {},
   "outputs": [],
   "source": [
    "def mean(z) :\n",
    "    return sum(z)\n",
    "\n",
    "## BEGIN SOLUTION\n",
    "def mean(z) :\n",
    "    return sum(z)/len(z)\n",
    "## END SOLUTION\n",
    "print(mean(d))"
   ]
  },
  {
   "cell_type": "markdown",
   "metadata": {
    "nbgrader": {
     "grade": false,
     "grade_id": "ib3",
     "locked": true,
     "schema_version": 1,
     "solution": false
    }
   },
   "source": [
    "## Izejas biļete"
   ]
  },
  {
   "cell_type": "markdown",
   "metadata": {
    "nbgrader": {
     "grade": false,
     "grade_id": "i1_question",
     "locked": true,
     "schema_version": 1,
     "solution": false
    }
   },
   "source": [
    "i1 Uzrakstiet funkciju `is_empty`, kas, gadījumā, ja saraksts ir tukšs, atgriež `True`, un pretēja gadījumā atgriež `False`"
   ]
  },
  {
   "cell_type": "code",
   "execution_count": null,
   "metadata": {
    "nbgrader": {
     "grade": false,
     "grade_id": "i1_solution",
     "locked": false,
     "schema_version": 1,
     "solution": true
    }
   },
   "outputs": [],
   "source": [
    "## BEGIN SOLUTION\n",
    "def is_empty(a) :\n",
    "    if len(a)==0 :\n",
    "        return True\n",
    "    else :\n",
    "        return False\n",
    "\n",
    "## END SOLUTION"
   ]
  },
  {
   "cell_type": "code",
   "execution_count": null,
   "metadata": {
    "nbgrader": {
     "grade": true,
     "grade_id": "i1_test",
     "locked": true,
     "points": 2,
     "schema_version": 1,
     "solution": false
    }
   },
   "outputs": [],
   "source": [
    "## BEGIN HIDDEN TESTS\n",
    "a=[]\n",
    "b=[1, 5, 9]\n",
    "assert is_empty(a)==True\n",
    "assert is_empty(b)==False\n",
    "## END HIDDEN TESTS"
   ]
  },
  {
   "cell_type": "markdown",
   "metadata": {
    "nbgrader": {
     "grade": false,
     "grade_id": "i2_question",
     "locked": true,
     "schema_version": 1,
     "solution": false
    }
   },
   "source": [
    "i2 Uzrakstiet skriptu, kas lūdz lietotājam ievadīt 10 skatiļus, saglabā tos sarakstā un izvada cik no tiem ir:\n",
    "- pozitīvi skaitļi\n",
    "- pāra skatiļi"
   ]
  },
  {
   "cell_type": "code",
   "execution_count": null,
   "metadata": {
    "nbgrader": {
     "grade": true,
     "grade_id": "i2_solution",
     "locked": false,
     "points": 3,
     "schema_version": 1,
     "solution": true
    }
   },
   "outputs": [],
   "source": [
    "## BEGIN SOLUTION\n",
    "pos=0\n",
    "even=0\n",
    "def make_l(a, pos, even) :\n",
    "    if len(a)!=10 :\n",
    "        tmp=int(input(\"please write a number: \"))\n",
    "        a.append(tmp)\n",
    "        if tmp%2==0 :\n",
    "            even+= 1\n",
    "        if tmp>0 :\n",
    "            pos+= 1\n",
    "        make_l(a, pos, even)\n",
    "    else :\n",
    "        print(\"There are \", pos, \"positive numbers and \", even, \" even numbers on the list\")\n",
    "\n",
    "b=[]\n",
    "make_l(b, pos, even)\n",
    "\n",
    "## END SOLUTION"
   ]
  },
  {
   "cell_type": "markdown",
   "metadata": {
    "nbgrader": {
     "grade": false,
     "grade_id": "i3_question",
     "locked": true,
     "schema_version": 1,
     "solution": false
    }
   },
   "source": [
    "i3 Uzrakstiet skriptu, kas izvada elementus, kas kopīgi abiem sarakstiem (atrodas gan saranstā `a`, gan sarakstā `b`)"
   ]
  },
  {
   "cell_type": "code",
   "execution_count": null,
   "metadata": {
    "nbgrader": {
     "grade": true,
     "grade_id": "i3_answer",
     "locked": false,
     "points": 1,
     "schema_version": 1,
     "solution": true
    }
   },
   "outputs": [],
   "source": [
    "a = [1, 1, 2, 3, 5, 8, 13, 21, 34, 55, 89]\n",
    "b = [1, 2, 3, 4, 5, 6, 7, 8, 9, 10, 11, 12, 13]\n",
    "## BEGIN SOLUTION\n",
    "new_list = []\n",
    "\n",
    "for num in a:\n",
    "    if num in b:\n",
    "        new_list.append(num)\n",
    "\n",
    "print(new_list)\n",
    "## END SOLUTION"
   ]
  },
  {
   "cell_type": "markdown",
   "metadata": {
    "nbgrader": {
     "grade": false,
     "grade_id": "i4_question",
     "locked": true,
     "schema_version": 1,
     "solution": false
    }
   },
   "source": [
    "i4 Uzrakstiet skriptu, kas lūdz lietotājam ievadīt vārdu un pārbauda vai šis vārds ir palindroms (tāds vārds, kas ir vienāds lasot abos virzienots, piemēram \"anna\"\n",
    "**Padoms**: Ir iespējams iegūt virkni pretējā secībā, izmantojot to pašu paņēmienu, kādu izmantojām, lai iegūtu sarakstu pretējā secībā"
   ]
  },
  {
   "cell_type": "code",
   "execution_count": null,
   "metadata": {
    "nbgrader": {
     "grade": true,
     "grade_id": "i4_answer",
     "locked": false,
     "points": 2,
     "schema_version": 1,
     "solution": true
    }
   },
   "outputs": [],
   "source": [
    "## BEGIN SOLUTION\n",
    "word=input(\"Please enter a word: \")\n",
    "word=str(word)\n",
    "reverse=word[::-1]\n",
    "print(reverse)\n",
    "if word == reverse:\n",
    "    print(\"This word is a palindrome\")\n",
    "else:\n",
    "    print(\"This word is not a palindrome\")\n",
    "## END SOLUTION"
   ]
  }
 ],
 "metadata": {
  "celltoolbar": "Create Assignment",
  "kernelspec": {
   "display_name": "Python 3",
   "language": "python",
   "name": "python3"
  },
  "language_info": {
   "codemirror_mode": {
    "name": "ipython",
    "version": 3
   },
   "file_extension": ".py",
   "mimetype": "text/x-python",
   "name": "python",
   "nbconvert_exporter": "python",
   "pygments_lexer": "ipython3",
   "version": "3.7.3"
  }
 },
 "nbformat": 4,
 "nbformat_minor": 2
}
