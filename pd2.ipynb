{
 "cells": [
  {
   "cell_type": "markdown",
   "metadata": {},
   "source": [
    "### Matemātika programmētajiem. Programmēšanas valoda Python."
   ]
  },
  {
   "cell_type": "markdown",
   "metadata": {},
   "source": [
    "## 2. praktiskais darbs - Loģiskie un salīdzināšanas operatori, funkcijas"
   ]
  },
  {
   "cell_type": "markdown",
   "metadata": {},
   "source": [
    "**Piezīmes**: Lielākā daļa programmēšanas valodu izmanto pieturzīmes vai atslēgasvārdus, lai nodalītu koda blokus. Python ta vieta izmanto atkāpes. Koda bloks sākas, kad atkāpe tiek palilināta, un beidzas, kad atkāpe tiek samazināta - kā tas darbojas kļūs saprotamāks uzdevumu pildīšanas gaitā. <br>\n",
    "Atkāpi Python iespējams uzlikt vai nu ar `tab` taustiņu, vai ar konsistentu atstarpju skaitu. Jupyter Notebook vidē četras atstarpes tiek pielīdzinātas vienam `tab`.\n"
   ]
  },
  {
   "cell_type": "markdown",
   "metadata": {},
   "source": [
    "### Loģiskie un salīdzināšanas operatori"
   ]
  },
  {
   "cell_type": "markdown",
   "metadata": {},
   "source": [
    "Python atbalsta **salīdzināšanas operatorus** (  == ,  != ,  < ,  <= ,  > ,  >= ), **iekļaušas operatoru** (`in`) un **loģiskos operatorus** (un - `and`, vai - `or`, ne - `not`, izslēdzošai vai - `xor`) <br>\n",
    "<br>"
   ]
  },
  {
   "cell_type": "markdown",
   "metadata": {},
   "source": [
    "1. Ir iespējams savā starpā salīdzināt `int` on `float` tipa skaitļus, bet ja skaitlis ir dots kā `string`, to nevarēs salīdzināt ar `int` un `float`. Izmēģiniet dažādus piemērus, lai pārliecinātos, ka sparotat, kā tas strādā, piemēram: <br>\n",
    "$17 == 17.0$ <br>\n",
    "$0.0< 1$ <br>\n",
    "$100<=101$ <br>\n",
    "$17==\"17\"$ <br>\n",
    "$17==int(\"17\")$"
   ]
  },
  {
   "cell_type": "code",
   "execution_count": null,
   "metadata": {},
   "outputs": [],
   "source": [
    "17 == 17"
   ]
  },
  {
   "cell_type": "markdown",
   "metadata": {},
   "source": [
    "2. Var salīdzināt, vai divas virknes ir vienādas, salīdinat tās pēc leksikografiskās secības (kas nav tā pati, kas alfabetiskā secība) un iekļaušanu (vai virkne satur konkrētu apakšvirkni).<br>\n",
    "Izmēģini šos un savus piemērus:<br>\n",
    "<br>\n",
    "\"programming\" == \"programming\"<br>\n",
    "\"python\" != \"PYTHON\"<br>\n",
    "\"aardvark\" < \"zebra\"<br>\n",
    "\"aardvark\" < \"Zebra\"<br>\n",
    "\"py\" in \"python\"<br>\n",
    "\"Py\" not in \"python\"<br>"
   ]
  },
  {
   "cell_type": "code",
   "execution_count": null,
   "metadata": {},
   "outputs": [],
   "source": [
    "\"programming\" == \"programming\""
   ]
  },
  {
   "cell_type": "markdown",
   "metadata": {},
   "source": [
    "Ja tiek salīdzinātas divas virknes ar atšķirīgu pirmo simbolu, kura lirkne ir \"lielāka\"? <br>\n",
    "Kura virkne ir \"lielāka\", ja salīdzina divas virknes, kas atšķirās tikai ar to, ka viena sākas ar lielo burtu, bet otra ar mazo?\n"
   ]
  },
  {
   "cell_type": "markdown",
   "metadata": {},
   "source": [
    "3. Ar kādām A un B vērtībām rezultāts tiek atgriezts ka patiess (`True`)? <br>\n",
    "Lai to noskaidrotu, izveidojiet divus mainīgos - `A` un `B` - un pārbaudiet rezultātu, piešķirot tiem vērtības `True` vai `False`"
   ]
  },
  {
   "cell_type": "code",
   "execution_count": null,
   "metadata": {},
   "outputs": [],
   "source": [
    "## BEGIN SOLUTION\n",
    "A=False\n",
    "B=False\n",
    "## END SOLUTION\n",
    "not (A or B)"
   ]
  },
  {
   "cell_type": "markdown",
   "metadata": {},
   "source": [
    "4. Ar kādām A un B vērtībām šīs izteiksmes rezultāts ir patiess (`True`)?"
   ]
  },
  {
   "cell_type": "code",
   "execution_count": null,
   "metadata": {},
   "outputs": [],
   "source": [
    "## BEGIN SOLUTION\n",
    "A=False\n",
    "B=False\n",
    "## END SOLUTION\n",
    "(not A) and (not B)\n"
   ]
  },
  {
   "cell_type": "markdown",
   "metadata": {},
   "source": [
    "5. Dažreiz nepieciešams izpildīt kādu koda daļu tikai tad, ja izpildās kāds nosacījums. Programmēšanas vaodā Python to var realizēt izmantojot atslēgas vārdus `if`, `elif` un `else`. <br> Kā piemēru apskatīsim kodu, kurā lietotājam tiek prasīts ievadīt skaitli un izvada, vai ir ievadīts pozitīvs skaitlis, negatīvs skaitlis vai nulle"
   ]
  },
  {
   "cell_type": "code",
   "execution_count": null,
   "metadata": {},
   "outputs": [],
   "source": [
    "x = int(input('Enter a number:'))\n",
    "if x < 0 :\n",
    "    print(\"Negative number\")\n",
    "elif x > 0 :\n",
    "    print(\"Positive number\")\n",
    "else :\n",
    "    print(\"Zero\")\n"
   ]
  },
  {
   "cell_type": "markdown",
   "metadata": {},
   "source": [
    "6. Pārkopējiet piemērā doto kodu, un izmainiet to, lai tas pārbaudītu, vai ievadītais skaitlis ir pāra vai nepāra."
   ]
  },
  {
   "cell_type": "code",
   "execution_count": null,
   "metadata": {},
   "outputs": [],
   "source": [
    "## BEGIN SOLUTIION\n",
    "x = int(input('Enter a number:'))\n",
    "if x == 0 :\n",
    "    print(\"zero\")\n",
    "elif x%2 == 0 :\n",
    "    print(\"Even number\")\n",
    "else  :\n",
    "    print(\"Odd number\")\n",
    "## END SOLUTION"
   ]
  },
  {
   "cell_type": "markdown",
   "metadata": {},
   "source": [
    "### Funkcijas"
   ]
  },
  {
   "cell_type": "markdown",
   "metadata": {},
   "source": [
    "Mēs jau esam izmantojuši dažādas **funkcijas** - `int`, `float`, `bin`, `print`, u.c. Tālākajos uzdevumos apskatīsim funkcijas mazliet dziļās un un iemācīsimies paši rakstīt funkcijas. <br>\n",
    "<br>"
   ]
  },
  {
   "cell_type": "markdown",
   "metadata": {},
   "source": [
    "7. Viena no svarīgākajām Python standarta bibliotēkas funkcijām ir palīdzība - `help(...)`. Tā izvada dokumentāciju par to, kas padots `help` funkcijai kā arguments. Piemēram, šādi var apskatītu dokumetnaciju par `print` funkciju:"
   ]
  },
  {
   "cell_type": "code",
   "execution_count": null,
   "metadata": {},
   "outputs": [],
   "source": [
    "help(print)"
   ]
  },
  {
   "cell_type": "markdown",
   "metadata": {},
   "source": [
    "8. Daudzām funkcijām ir parametri ar **noklusējuma vērtības** (default values). Apskatiet vēlreiz `print` funkcijas palīdzības lapu. Tur varēsiet redzēt, ka `print` funkcijai ir četri parametri ar nokusējuma vērtībam. <br>\n",
    "Noklusejuma vērtības ir iespējams pārrakstīt, funkcijas izsaukumā pieškirot attiecīgajiem mainīgajiem jaunas vērtības."
   ]
  },
  {
   "cell_type": "code",
   "execution_count": null,
   "metadata": {},
   "outputs": [],
   "source": [
    "print(\"hello\", \"world\", end=\"\\n\\n\\n\")"
   ]
  },
  {
   "cell_type": "markdown",
   "metadata": {},
   "source": [
    "Ar \"\\n\" tiek apzīmēts jaunas rindas simbols (gluži kā nospiežot `enter` taustiņu). <br>\n",
    "Izmēginiet pārrakstī `sep` parametru un pārbaudiet kas notiek, ja tiek padoti vairāki argumenti."
   ]
  },
  {
   "cell_type": "markdown",
   "metadata": {},
   "source": [
    "11. Programmēšanā ir ļoti svarīgi mācēt definēt savas funkcijas. Programmēšanas valodā Python funkcijas tiek definētas ar atslēgasvārdu **def**. Visam kodam, kas atrodas funkcijā, jābūt ar lielāku atkāpi nekā funkcijas definīcijai. <br>\n",
    "Izmēģiniet funkciju, kas veic divu skaitļu reizināšanu:"
   ]
  },
  {
   "cell_type": "code",
   "execution_count": null,
   "metadata": {},
   "outputs": [],
   "source": [
    "def multipl(a, b):\n",
    "    print(a*b)\n",
    "\n",
    "multipl(1,8)\n",
    "multipl(-9,4)"
   ]
  },
  {
   "cell_type": "markdown",
   "metadata": {},
   "source": [
    "12. Uzrakstiet savu funkciju `divide(...)`, kas \n",
    "    - pārbauda vai dalītājs nav nulle. Ja tas ir nulle, tad izvada paziņojumu, ka ar nulli dalīt nedrīks\n",
    "    - ja dalītājs nav nulle, tad izvada dalījumu"
   ]
  },
  {
   "cell_type": "code",
   "execution_count": null,
   "metadata": {},
   "outputs": [],
   "source": [
    "def divide(a, b) :\n",
    "\n",
    "## BEGIN SOLUTION\n",
    "    if b == 0 :\n",
    "        print(\"can't divide by zero\")\n",
    "    else :\n",
    "        print(a/b)\n",
    "## END SOLUTION"
   ]
  },
  {
   "cell_type": "markdown",
   "metadata": {},
   "source": [
    "12. Funkcijas definīcijā ir iespējams noteikt noklusejuma vērtības. Tas nozīme, ka gadījumā, ja izsaucot šo funkciju lietotājs neievadīs šī parametra vērtību, tad tā vietā tiks izmantota noklusējuma vērtība."
   ]
  },
  {
   "cell_type": "code",
   "execution_count": null,
   "metadata": {},
   "outputs": [],
   "source": [
    "def say_hello(name=\"world\") :\n",
    "    ## BEGIN SOLUTION\n",
    "    if name == \"world\" :\n",
    "        print(\"hi\", name)\n",
    "    else :\n",
    "    ## END SOLUTION\n",
    "        print(\"hello\", name)\n",
    "\n",
    "\n",
    "say_hello()\n",
    "say_hello(\"Alan\")\n",
    "say_hello(name=\"Alan\")"
   ]
  },
  {
   "cell_type": "markdown",
   "metadata": {},
   "source": [
    "Izmaini funkcijas say_hello kodu, lai gadījuma **ja** tiek izmantota noklusējuma vērtība, \"hello\" vietā būtu \"hi\" "
   ]
  },
  {
   "cell_type": "markdown",
   "metadata": {},
   "source": [
    "13. Ja nepieciešams atgriezt izsaucošajam kodam vienu vērtību, tiek izmantots atslēgas vārds **return**. <br>\n",
    "Apskatīsim piemēŗu, kur funkcijai tiek padoti divi skaitļi un tā atgriež mazāko no skaitļiem:"
   ]
  },
  {
   "cell_type": "code",
   "execution_count": null,
   "metadata": {},
   "outputs": [],
   "source": [
    "def min_num( x, y ):\n",
    "    if x < y:\n",
    "        return x\n",
    "    return y\n"
   ]
  },
  {
   "cell_type": "markdown",
   "metadata": {},
   "source": [
    "Izmantojot šo funkciju, atrodi mazāko no trim skaitļiem, bez starprezultāta saglabāšanas atsevišķā mainīgajā."
   ]
  },
  {
   "cell_type": "code",
   "execution_count": null,
   "metadata": {},
   "outputs": [],
   "source": [
    "a = 5\n",
    "b = 2\n",
    "c = 9\n",
    "## BEGIN SOLUTION\n",
    "print(min_num(min_num(a, b), c))\n",
    "## END SOLUTION"
   ]
  },
  {
   "cell_type": "markdown",
   "metadata": {},
   "source": [
    "Līdz šim apskatīti ļoti vienkāršu funkciju piemēri. Funkciju galvenā nozīme ir izdalīt kodu, kas tiks izmatots vairākārtīgi - tā vietā, lai kopētu koda fragment, katru reizi, kad tas jāpielieto atkārtoti, var vienkārši izsaukt funkciju, kas veic to pašu darbību. "
   ]
  },
  {
   "cell_type": "markdown",
   "metadata": {},
   "source": [
    "18. `help` fukcija no Python pirmkoda atgriež tā saucamās **dokumentācijas virknes** jeb **docstrings**. Tām būtu jābūt kā pirmajai rindiņai katrā fukcijā un to iekļauj trijās dubultajās pēdiņās "
   ]
  },
  {
   "cell_type": "code",
   "execution_count": null,
   "metadata": {},
   "outputs": [],
   "source": [
    "def func() :\n",
    "    \"\"\"This is a docstring\"\"\"\n",
    "    return 0"
   ]
  },
  {
   "cell_type": "markdown",
   "metadata": {},
   "source": [
    "Izmantojot `help` var apskatīt dokumnentācijas virknes arī lietotāja definētajām funkcijām."
   ]
  },
  {
   "cell_type": "code",
   "execution_count": null,
   "metadata": {},
   "outputs": [],
   "source": [
    "help(func)"
   ]
  },
  {
   "cell_type": "markdown",
   "metadata": {},
   "source": [
    "19. Tā pat kā dokumentācijas virknes, komentāri ir koda daļa, kas koda izpildes laikā lietotājam nebūs redzama. "
   ]
  },
  {
   "cell_type": "code",
   "execution_count": null,
   "metadata": {},
   "outputs": [],
   "source": [
    "# comment can be a separate line\n",
    "\n",
    "print(\"hello world\") # or it can be inline with other code"
   ]
  },
  {
   "cell_type": "markdown",
   "metadata": {},
   "source": [
    "`docstring` un komentāros tiek aprakstīta programma - kādi parametri nepieciešami, ko tā dara, utt.\n",
    "Tie ir nepieciešami, jo tie padara kodu saprotamāku un vieglāk lasāmu."
   ]
  },
  {
   "cell_type": "markdown",
   "metadata": {},
   "source": [
    "20. Ir dots kods, kas aprēķina pozitīva skaitļa faktoriālu $n!$ (fairāk informācija [šeit](https://en.wikipedia.org/wiki/Factorial)).<br>\n",
    "Izmēginiet kodu un mēģiniet izprast, kā tas darbojas. <br>\n",
    "**Padoms**: Pamēģiniet izvadīt vērtību katru reizi, kad tiek izsaukta funkcija `factorial`"
   ]
  },
  {
   "cell_type": "code",
   "execution_count": null,
   "metadata": {},
   "outputs": [],
   "source": [
    "def factorial(n) :\n",
    "    if n == 0 :\n",
    "        return 1\n",
    "    return n*factorial(n-1)\n",
    "\n",
    "print(factorial(3))"
   ]
  },
  {
   "cell_type": "markdown",
   "metadata": {},
   "source": [
    "Šāda veida funkcijas, kas izsauc pašas sevi, sau par **rekursijām**. Vai varat iedomāties vēl kādu gadījumu, kad būtu nepieviešama rekursija?"
   ]
  },
  {
   "cell_type": "markdown",
   "metadata": {},
   "source": [
    "## Izejas biļete"
   ]
  },
  {
   "cell_type": "markdown",
   "metadata": {},
   "source": [
    "i1 Vienkāršojiet izteikumus, lai katrs saturētu tikai vienu operatoru<br>\n",
    "<br>\n",
    "not (A == B)<br>\n",
    "not (A < B)<br>\n",
    "not (A <= B)<br>"
   ]
  },
  {
   "cell_type": "code",
   "execution_count": null,
   "metadata": {
    "nbgrader": {
     "grade": true,
     "grade_id": "i1_solution",
     "locked": false,
     "points": 3,
     "schema_version": 1,
     "solution": true
    }
   },
   "outputs": [],
   "source": [
    "## BEGIN SOLUTION\n",
    "A != B\n",
    "A >= B\n",
    "A > B\n",
    "## END SOLUTION"
   ]
  },
  {
   "cell_type": "markdown",
   "metadata": {
    "nbgrader": {
     "grade": false,
     "grade_id": "i2_question",
     "locked": true,
     "schema_version": 1,
     "solution": false
    }
   },
   "source": [
    "i2 Gads, kas dalās ar 4 bez atlikuma, ir īsais gads. Izņemot gadus, kas dalās ar 100 - tas būs garais gads. Izņemot gadus, kas dalās arī ar 400, kas tomēr būs īsais gads. <br>\n",
    "Piemēram: 1997 nedalās ar 4, tātad ir garais gads, 1996 dalās ar 4, tātad ir īsais gads. 1900 dalās ar4, bet dalās arī ar 100, tātad ir garais gads, un 2000 dalās gan ar 100 gan ar 400, tātad ir īsais gads.<br>\n",
    "Uzrakstiet funkciju `is_leap_year`, kas pārbauda, vai dotais gads ir īsais gads. Mēģiniet visus nosacījumus apvienot vienā, izmantojot loģiskos operatorus."
   ]
  },
  {
   "cell_type": "code",
   "execution_count": null,
   "metadata": {
    "nbgrader": {
     "grade": true,
     "grade_id": "i2_solution",
     "locked": false,
     "points": 3,
     "schema_version": 1,
     "solution": true
    }
   },
   "outputs": [],
   "source": [
    "## BEGIN SOLUTION\n",
    "def is_leap_year(year) :\n",
    "    if year % 4 == 0 and (year%100 != 0 or year%400 == 0) :\n",
    "        return true\n",
    "    else :\n",
    "        return false\n",
    "        \n",
    "## END SOLUTION"
   ]
  },
  {
   "cell_type": "markdown",
   "metadata": {
    "nbgrader": {
     "grade": false,
     "grade_id": "i3_question",
     "locked": true,
     "schema_version": 1,
     "solution": false
    }
   },
   "source": [
    "i3 Taisnleķņķa trijstūrim hipotenūzas kvadrāts ir vienāds ar katešu kvadrātu summu $a^2 + b^2 = c ^2$\n",
    "Uzrakstiet funkciju `pitag_triangle`, kas pārbauda, vai funkcijai padotie trīs malu garumi veido taisnleņķa trijstūri."
   ]
  },
  {
   "cell_type": "code",
   "execution_count": null,
   "metadata": {
    "nbgrader": {
     "grade": true,
     "grade_id": "i3_answer",
     "locked": false,
     "points": 3,
     "schema_version": 1,
     "solution": true
    }
   },
   "outputs": [],
   "source": [
    "## BEGIN SOLUTION\n",
    "def pitag_triangle (a, b, c) :\n",
    "    if a**2+b**2==c**2 or a**2+c**2==b**2 or b**2+c**2==a**2 :\n",
    "        return True\n",
    "    else :\n",
    "        return False\n",
    "## END SOLUTION "
   ]
  },
  {
   "cell_type": "markdown",
   "metadata": {
    "nbgrader": {
     "grade": false,
     "grade_id": "i4_question",
     "locked": true,
     "schema_version": 1,
     "solution": false
    }
   },
   "source": [
    "i4 Iepriekšēja praktiskajā darbā rakstījāt kodu, kas aprēķina kuba tilpumu, izmantojot lietotāja ievadītu malas garumu. Veiciet izmaiņas kodā:\n",
    "- definējiet funkciju `cube_volume`, kas izmanto lietotaja ievadītu malas garumu kuba tilpuma aprēķināšanai un atgriež aprēķināto tilpumu\n",
    "- šim skriptam ir jēga tikai tad, ja lietotājs ievadījis pozitīvu skaitli, kas nav vienāds ar nulli. Pretējā gadījumā veiciet kļūdas paziņojuma izvadi"
   ]
  },
  {
   "cell_type": "code",
   "execution_count": null,
   "metadata": {
    "nbgrader": {
     "grade": true,
     "grade_id": "i4_answer",
     "locked": false,
     "points": 2,
     "schema_version": 1,
     "solution": true
    }
   },
   "outputs": [],
   "source": [
    "import math\n",
    "\n",
    "edge = float(input(\"Input edge length:\"))\n",
    "volume = math.pow(edge, 3)\n",
    "\n",
    "print(\"The volume of the cube is\", volume)\n",
    "## BEGIN SOLUTION\n",
    "def cube_volume(e) :\n",
    "    if(e>0) :\n",
    "        return math.pow(edge, 3)\n",
    "    else :\n",
    "        print(\"length of edge can't be negative number or zero\")\n",
    "print(\"The volume of the cube is\", cube_volume(2))\n",
    "    \n",
    "## END SOLUTION"
   ]
  },
  {
   "cell_type": "markdown",
   "metadata": {
    "nbgrader": {
     "grade": false,
     "grade_id": "i5_question",
     "locked": true,
     "schema_version": 1,
     "solution": false
    }
   },
   "source": [
    "i5 Uzraksti skriptu, kas\n",
    "- prasa lietotajam ievadīt skaitli intervālā no 1 līdz 20\n",
    "- izvada paziņjumu, ja ievadītais skaitlis nav šajās robežās\n",
    "- ja skaitlis ir dotajās robežās, izvada\n",
    "    - vai tas ir pāra vai nepāra skaitlis\n",
    "    - vai tas dalās ar 3"
   ]
  },
  {
   "cell_type": "code",
   "execution_count": null,
   "metadata": {
    "nbgrader": {
     "grade": true,
     "grade_id": "i5_answer",
     "locked": false,
     "points": 3,
     "schema_version": 1,
     "solution": true
    }
   },
   "outputs": [],
   "source": [
    "## BEGIN SOLUTION\n",
    "n= int(input(\"Please input number between 1 and 20:\"))\n",
    "if n>20 or n<1 :\n",
    "    print(\"wrong number\")\n",
    "else :\n",
    "    if n%3==0 :\n",
    "        print(\"number can be divided by 3\")\n",
    "    if n%2==0 :\n",
    "        print(\"it's an even number\")\n",
    "    else :\n",
    "        print(\"it's an odd number\")\n",
    "## END SOLUTION"
   ]
  }
 ],
 "metadata": {
  "celltoolbar": "Create Assignment",
  "kernelspec": {
   "display_name": "Python 3",
   "language": "python",
   "name": "python3"
  },
  "language_info": {
   "codemirror_mode": {
    "name": "ipython",
    "version": 3
   },
   "file_extension": ".py",
   "mimetype": "text/x-python",
   "name": "python",
   "nbconvert_exporter": "python",
   "pygments_lexer": "ipython3",
   "version": "3.7.3"
  }
 },
 "nbformat": 4,
 "nbformat_minor": 2
}
